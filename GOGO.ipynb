{
 "cells": [
  {
   "cell_type": "code",
   "execution_count": 146,
   "metadata": {
    "collapsed": true,
    "deletable": true,
    "editable": true
   },
   "outputs": [],
   "source": [
    "import pandas as pd\n",
    "import nltk"
   ]
  },
  {
   "cell_type": "code",
   "execution_count": 147,
   "metadata": {
    "collapsed": false,
    "deletable": true,
    "editable": true
   },
   "outputs": [
    {
     "data": {
      "text/plain": [
       "Counter({'1': 1,\n",
       "         '?': 1,\n",
       "         'Who': 1,\n",
       "         'highest': 1,\n",
       "         'in': 1,\n",
       "         'match': 1,\n",
       "         'runs': 1,\n",
       "         'scored': 1})"
      ]
     },
     "execution_count": 147,
     "metadata": {},
     "output_type": "execute_result"
    }
   ],
   "source": [
    "nltk.Counter(nltk.word_tokenize(\"Who scored highest runs in match 1?\"))"
   ]
  },
  {
   "cell_type": "code",
   "execution_count": 218,
   "metadata": {
    "collapsed": true
   },
   "outputs": [],
   "source": [
    "matches = pd.read_csv('matches.csv')\n",
    "deliveries = pd.read_csv('deliveries.csv')"
   ]
  },
  {
   "cell_type": "code",
   "execution_count": 219,
   "metadata": {
    "collapsed": false,
    "deletable": true,
    "editable": true
   },
   "outputs": [],
   "source": [
    "def feature_extractor(sentence):\n",
    "    features = {'highest': 0\n",
    "                ,'scored': 0\n",
    "                ,'runs': 0\n",
    "                ,'scorer': 0\n",
    "                ,'score':0\n",
    "                ,'match':0\n",
    "                ,'wickets': 0\n",
    "                ,'boundary': 0\n",
    "                ,'boundaries':0\n",
    "                ,'fours':0\n",
    "                ,'4s':0\n",
    "                ,'six':0\n",
    "                ,'sixes':0\n",
    "                ,'6s':0\n",
    "                ,'hit':0\n",
    "                ,'Fours':0\n",
    "                ,'aggregate':0\n",
    "                ,'total':0\n",
    "                ,'team':0\n",
    "                ,'lead':0\n",
    "                ,'leading':0\n",
    "                ,'maximum':0\n",
    "                ,'max':0\n",
    "                ,'minimum':0\n",
    "                ,'min':0\n",
    "                ,'least':0\n",
    "                ,'less':0\n",
    "                ,'1st':0,'2nd':0,'3rd':0,'4th':0,'5th':0,'6th':0,'7th':0,'8th':0,'9th':0,'10th':0    \n",
    "                ,'dot':0\n",
    "                ,'dots':0\n",
    "                ,'faced':0 \n",
    "                ,'entire':0\n",
    "                ,'whole':0\n",
    "                ,'season':0\n",
    "               }\n",
    "    \n",
    "    tokenized_sentence = nltk.word_tokenize(sentence)\n",
    "    word_counts = nltk.Counter(tokenized_sentence)\n",
    "    for word in word_counts:\n",
    "        if word in features:\n",
    "            features[word] = word_counts[word]\n",
    "    return features"
   ]
  },
  {
   "cell_type": "code",
   "execution_count": 220,
   "metadata": {
    "collapsed": false,
    "deletable": true,
    "editable": true
   },
   "outputs": [
    {
     "data": {
      "text/plain": [
       "('who hit most 6s in this season?',)"
      ]
     },
     "execution_count": 220,
     "metadata": {},
     "output_type": "execute_result"
    }
   ],
   "source": [
    "('Total runs scored by SC Ganguly in match 5?' ,'runs'),\n",
    "('SC Ganguly score in match 1?','runs'),\n",
    "('how many runs did Ganguly score in match 2?','runs'),\n",
    "(\"Sachin's score in 4th match?\", 'runs'),\n",
    "('McCullum scored how much in match 3?','runs'),\n",
    "(\"Dravid's runs in match 2?\",'runs'),\n",
    "(\"Dravid's score in match 5?\",'runs'),\n",
    "\n",
    "('How much did RCB Score in Match 1?','runs'),\n",
    "('RCB Score in match 1?','runs'),\n",
    "('RCB runs in match 1','runs'),\n",
    "('total score of DDin 3rd match','runs'),\n",
    "('totals runs of Deccan in 8th match','runs'),\n",
    "('final score of DD in 3rd match','runs'),\n",
    "('Team score of rcb in match 4','runs')\n",
    "\n",
    "('maximum score in match 3','max_runs'),\n",
    "('highest score in match 3','max_runs'),\n",
    "('maximum scorer of match 2','max_runs'),\n",
    "\n",
    "\n",
    "('minimum score in match 3', 'min_runs'),\n",
    "('lowest score in match 3','min_runs'),\n",
    "('minimumscorer of match 2','min_runs'),\n",
    "\n",
    "(\"who scored the maximum run match 3 by DD\",'max_runs'),\n",
    "(\"top scorer for DD in match 3\",'max_runs'),\n",
    "(\"top score in DD match 4?\",'max_runs'),\n",
    "(\"highest scorer for DD in match 4\",'max_runs'),\n",
    "(\"who scored maximum runs in match 6\", 'max_runs'),\n",
    "(\"who was the top scorer in match 6\", 'max_runs')\n",
    "\n",
    "(\"who scored the minimum run match 3 by DD\",'min_runs'),\n",
    "(\"least scorer for DD in match 3\",'min_runs'),\n",
    "(\"lowest score in DD match 4?\",'min_runs'),\n",
    "(\"low scorer for DD in match 4\",'min_runs'),\n",
    "('who scored less runs in match 3?','min_runs'),\n",
    "('who was the least run scorer in match 3?','min_runs')\n",
    "\n",
    "(\"total runs scored by sachin?\",'total_runs'),\n",
    "(\"aggregate runs by Abhay?\",'total_runs'),\n",
    "(\"how many runs has sachin made in ipl1?\",'total_runs'),\n",
    "(\"Total runs made by sachin?\",'total_runs'),\n",
    "\n",
    "(\"What is the total runs made by RCB?\",'total_runs'),\n",
    "(\"what is the runs made by RCB in ipl 9?\",'total_runs'),\n",
    "(\"What is the sum total runs made by RCB\",'total_runs'),\n",
    "\n",
    "(\"how many fours did Kohli score in match 2?\",'fours'),\n",
    "(\"4s hit by Sachin in match 1?\",'fours'),\n",
    "(\"Fours hit by Abhay in match 5?\",'fours'),\n",
    "\n",
    "(\"how many sixes did Kohli score in match 2?\",'sixes'),\n",
    "(\"6s hit by Sachin in match 1?\",'sixes'),\n",
    "(\"Fours hit by Abhay in match 5?\",'sixes'),\n",
    "(\"how many sixes did Kohli hit in match 2?\",'sixes')\n",
    "\n",
    "(\"who was 3rd highest scorer in match 3\")\n",
    "(\"who was 3rd top scorer in match 4\")\n",
    "(\"who was 2nd maximum run scorer in match 6\")\n",
    "\n",
    "(\"rahul faced how many dot balls in match 1\")\n",
    "\n",
    "('how many boundaries are scored by rcb in match 6'),\n",
    "('how many 4s are scored by rcb in match 3'),\n",
    "('how many fours are scored by rcb in match 6'),\n",
    "('how many boundaries are hit by rcb in match 6'),\n",
    "('how many 4s are hit by rcb in match 6'),\n",
    "('how many fours are hit by rcb in match 6'),\n",
    "('what are total boundaries of rcb in match 6'),\n",
    "('what are total fours of rcb in match 6'),\n",
    "('what are total 4s of rcb in match 5')\n",
    "\n",
    "(\"how many 6s are scored by rcb in match 6\"),\n",
    "(\"how many sixes are scored by rcb in match 6\"),\n",
    "(\"how many 6s are hit by rcb in match 6\"),\n",
    "(\"how many sixes are hit by rcb in match 6\"),\n",
    "(\"what are total sixes of rcb in match 6\"),\n",
    "(\"what are total 6s of rcb in match 5\")\n",
    "\n",
    "(\"how many fours are hit by kohli in this season?\"),\n",
    "(\"how many 4s are hit by kohli in this season?\"),\n",
    "(\"how many boundaries are hit by kohli in this season?\"),\n",
    "(\"how many fours are scored by kohli in this season?\"),\n",
    "(\"how many 4s are scored by kohli in this season?\"),\n",
    "(\"how many boundaries are hit by kohli in this season?\"),\n",
    "(\"how many boundaries are hit by kohli in this entire ipl?\"),\n",
    "(\"how many 4s are hit by kohli in this entire ipl?\"),\n",
    "(\"how many fours are hit by kohli in this entire ipl?\"),\n",
    "(\"how many boundaries are hit by kohli in this whole ipl?\"),\n",
    "(\"how many 4s are hit by kohli in this whole ipl?\"),\n",
    "(\"how many fours are hit by kohli in this whole ipl?\")\n",
    "\n",
    "(\"how many sixes are hit by kohli in this season?\"),\n",
    "(\"how many 6s are hit by kohli in this season?\"),\n",
    "(\"how many sixes are scored by kohli in this season?\"),\n",
    "(\"how many 6s are scored by kohli in this season?\"),\n",
    "(\"how many 6s are hit by kohli in this entire ipl?\"),\n",
    "(\"how many sixes are hit by kohli in this entire ipl?\"),\n",
    "(\"how many 6s are hit by kohli in this whole ipl?\"),\n",
    "(\"how many sixes are hit by kohli in this whole ipl?\")\n",
    "\n",
    "(\"who scored most fours in entire ipl?\"),\n",
    "(\"who hit most fours in entire ipl?\"),\n",
    "(\"who scored most 4s in entire ipl?\"),\n",
    "(\"who hit most 4s in entire ipl?\"), \n",
    "(\"who scored most boundaries in entire ipl?\"),\n",
    "(\"who hit most boundaries in entire ipl?\"), \n",
    "(\"who scored most fours in whole ipl?\"),\n",
    "(\"who hit most fours in whole ipl?\"),\n",
    "(\"who scored most 4s in whole ipl?\"),\n",
    "(\"who hit most 4s in whole ipl?\"), \n",
    "(\"who scored most boundaries in whole ipl?\"),\n",
    "(\"who hit most boundaries in whole ipl?\"), \n",
    "(\"who scored most fours in this season?\"),\n",
    "(\"who hit most fours in this season?\"),\n",
    "(\"who scored most 4s in this season?\"),\n",
    "(\"who hit most 4s in this season?\"), \n",
    "(\"who scored most boundaries in this season?\"),\n",
    "(\"who hit most boundaries in this season?\") \n",
    "\n",
    "(\"who scored most sixes in entire ipl?\"),\n",
    "(\"who hit most sixes in entire ipl?\"),\n",
    "(\"who scored most 6s in entire ipl?\"),\n",
    "(\"who hit most 6s in entire ipl?\"),  \n",
    "(\"who scored most sixes in whole ipl?\"),\n",
    "(\"who hit most sixes in whole ipl?\"),\n",
    "(\"who scored most 6s in whole ipl?\"),\n",
    "(\"who hit most 6s in whole ipl?\"), \n",
    "(\"who scored most sixes in this season?\"),\n",
    "(\"who hit most sixes in this season?\"),\n",
    "(\"who scored most 6s in this season?\"),\n",
    "(\"who hit most 6s in this season?\"), \n",
    "\n"
   ]
  },
  {
   "cell_type": "code",
   "execution_count": 221,
   "metadata": {
    "collapsed": false,
    "deletable": true,
    "editable": true
   },
   "outputs": [
    {
     "data": {
      "text/plain": [
       "{'10th': 0,\n",
       " '1st': 0,\n",
       " '2nd': 0,\n",
       " '3rd': 0,\n",
       " '4s': 0,\n",
       " '4th': 0,\n",
       " '5th': 0,\n",
       " '6s': 0,\n",
       " '6th': 0,\n",
       " '7th': 0,\n",
       " '8th': 0,\n",
       " '9th': 0,\n",
       " 'Fours': 0,\n",
       " 'aggregate': 0,\n",
       " 'boundaries': 0,\n",
       " 'boundary': 0,\n",
       " 'dot': 0,\n",
       " 'dots': 0,\n",
       " 'entire': 0,\n",
       " 'faced': 0,\n",
       " 'fours': 0,\n",
       " 'highest': 1,\n",
       " 'hit': 0,\n",
       " 'lead': 0,\n",
       " 'leading': 0,\n",
       " 'least': 0,\n",
       " 'less': 0,\n",
       " 'match': 1,\n",
       " 'max': 0,\n",
       " 'maximum': 0,\n",
       " 'min': 0,\n",
       " 'minimum': 0,\n",
       " 'runs': 1,\n",
       " 'score': 0,\n",
       " 'scored': 1,\n",
       " 'scorer': 0,\n",
       " 'season': 0,\n",
       " 'six': 0,\n",
       " 'sixes': 0,\n",
       " 'team': 0,\n",
       " 'total': 0,\n",
       " 'whole': 0,\n",
       " 'wickets': 0}"
      ]
     },
     "execution_count": 221,
     "metadata": {},
     "output_type": "execute_result"
    }
   ],
   "source": [
    "feature_extractor(\"Who scored the highest runs in match 1\")"
   ]
  },
  {
   "cell_type": "code",
   "execution_count": 222,
   "metadata": {
    "collapsed": false,
    "deletable": true,
    "editable": true
   },
   "outputs": [],
   "source": [
    "train_sentences = [('Total runs scored by SC Ganguly in match 5?' ,'runs'),\n",
    "                    ('SC Ganguly score in match 1?','runs'),\n",
    "                    ('how many runs did Ganguly score in match 2?','runs'),\n",
    "                    (\"Sachin's score in 4th match?\", 'runs'),\n",
    "                    ('McCullum scored how much in match 3?','runs'),\n",
    "                    (\"Dravid's runs in match 2?\",'runs'),\n",
    "                    (\"Dravid's score in match 5?\",'runs'),\n",
    "                    ('How much did RCB Score in Match 1?','runs'),\n",
    "                    ('RCB Score in match 1?','runs'),\n",
    "                    ('RCB runs in match 1','runs'),\n",
    "                    ('Team score of rcb in match 4','runs'),\n",
    "                    ('total score of DDin 3rd match','runs'),\n",
    "                    ('totals runs of Deccan in 8th match','runs'),\n",
    "                    ('final score of DD in 3rd match','runs'),\n",
    "                    ('Rahul maximum score in match 3','max_runs'),\n",
    "                    (\"who was the leading run scorer in match 9\", 'max_runs'),\n",
    "                    ('highest score in match 3','max_runs'),\n",
    "                    ('maximum scorer of match 2','max_runs'),\n",
    "                    (\"who scored maximum runs in match 6\", 'max_runs'),\n",
    "                    (\"who was the top scorer in match 6\", 'max_runs'), \n",
    "                    ('minimum score in match 3', 'min_runs'),\n",
    "                    ('lowest score in match 3','min_runs'),\n",
    "                    ('minimumscorer of match 2','min_runs'),\n",
    "                    ('who scored less runs in match 3?','min_runs'),\n",
    "                    ('who was the least run scorer in match 3?','min_runs'),\n",
    "                    (\"who scored the maximum run match 3 by DD\",'max_runs'),\n",
    "                    (\"top scorer for DD in match 3\",'max_runs'),\n",
    "                    (\"top score in DD match 4?\",'max_runs'),\n",
    "                    (\"highest scorer for DD in match 4\",'max_runs'),\n",
    "                    (\"who scored the minimum run match 3 by DD\",'min_runs'),\n",
    "                    (\"least scorer for DD in match 3\",'min_runs'),\n",
    "                    (\"lowest score in DD match 4?\",'min_runs'),\n",
    "                    (\"low scorer for DD in match 4\",'min_runs'),\n",
    "                    (\"total runs scored by sachin?\",'total_runs'),\n",
    "                    (\"aggregate runs by Abhay?\",'total_runs'),\n",
    "                    (\"how many runs has sachin made in ipl1?\",'total_runs'),\n",
    "                    (\"Total runs made by sachin?\",'total_runs'),\n",
    "                    (\"What is the total runs made by RCB?\",'total_runs'),\n",
    "                    (\"what is the runs made by RCB in ipl 9?\",'total_runs'),\n",
    "                    (\"What is the sum total runs made by RCB\",'total_runs'),\n",
    "                    (\"how many fours did Kohli score in match 2?\",'fours'),\n",
    "                    (\"4s hit by Sachin in match 1?\",'fours'),\n",
    "                    (\"Fours hit by Abhay in match 5?\",'fours'),\n",
    "                    (\"how many sixes did Kohli score in match 2?\",'sixes'),\n",
    "                    (\"6s hit by Sachin in match 1?\",'sixes'),\n",
    "                    (\"Sixes hit by Abhay in match 5?\",'sixes'),\n",
    "                    (\"how many sixes did Kohli hit in match 2?\",'sixes'),\n",
    "                    (\"who was 3rd highest scorer in match 3?\",'ith_highest_scorer'),\n",
    "                    (\"who was 3rd top scorer in match 4?\",'ith_highest_scorer'),\n",
    "                    (\"who was 2nd maximum run scorer in match 6?\",'ith_highest_scorer'), \n",
    "                    (\"rahul faced how many dot balls in match 1\",'dot_balls'),\n",
    "                    (\"rahul faced how many dots in match 1\",'dot_balls'),\n",
    "                    (\"how many boundaries are scored by rcb in match 6\",'fours'),\n",
    "                    (\"how many 4s are scored by rcb in match 3\",'fours'),\n",
    "                    (\"how many fours are scored by rcb in match 6\",'fours'),\n",
    "                    (\"how many boundaries are hit by rcb in match 6\",'fours'),\n",
    "                    (\"how many 4s are hit by rcb in match 6\",'fours'),\n",
    "                    (\"how many fours are hit by rcb in match 6\",'fours'),\n",
    "                    (\"what are total boundaries of rcb in match 6\",'fours'),\n",
    "                    (\"what are total fours of rcb in match 6\",'fours'),\n",
    "                    (\"what are total 4s of rcb in match 5\",'fours'),   \n",
    "                    (\"how many 6s are scored by rcb in match 6\",'sixes'),\n",
    "                    (\"how many sixes are scored by rcb in match 6\",'sixes'),\n",
    "                    (\"how many 6s are hit by rcb in match 6\",'sixes'),\n",
    "                    (\"how many sixes are hit by rcb in match 6\",'sixes'),\n",
    "                    (\"what are total sixes of rcb in match 6\",'sixes'),\n",
    "                    (\"what are total 6s of rcb in match 5\",'sixes'),\n",
    "                    (\"how many fours are hit by kohli in this season?\",'fours'),\n",
    "                    (\"how many 4s are hit by kohli in this season?\",'fours'),\n",
    "                    (\"how many boundaries are hit by kohli in this season?\",'fours'),\n",
    "                    (\"how many fours are scored by kohli in this season?\",'fours'),\n",
    "                    (\"how many 4s are scored by kohli in this season?\",'fours'),\n",
    "                    (\"how many boundaries are hit by kohli in this season?\",'fours'),\n",
    "                    (\"how many boundaries are hit by kohli in this entire ipl?\",'fours'),\n",
    "                    (\"how many 4s are hit by kohli in this entire ipl?\",'fours'),\n",
    "                    (\"how many fours are hit by kohli in this entire ipl?\",'fours'),\n",
    "                    (\"how many boundaries are hit by kohli in this whole ipl?\",'fours'),\n",
    "                    (\"how many 4s are hit by kohli in this whole ipl?\",'fours'),\n",
    "                    (\"how many fours are hit by kohli in this whole ipl?\",'fours'),\n",
    "                    (\"how many sixes are hit by kohli in this season?\",'sixes'),\n",
    "                    (\"how many 6s are hit by kohli in this season?\",'sixes'),\n",
    "                    (\"how many sixes are scored by kohli in this season?\",'sixes'),\n",
    "                    (\"how many 6s are scored by kohli in this season?\",'sixes'),\n",
    "                    (\"how many 6s are hit by kohli in this entire ipl?\",'sixes'),\n",
    "                    (\"how many sixes are hit by kohli in this entire ipl?\",'sixes'),\n",
    "                    (\"how many 6s are hit by kohli in this whole ipl?\",'sixes'),\n",
    "                    (\"how many sixes are hit by kohli in this whole ipl?\",'sixes'),\n",
    "                    (\"who scored most fours in entire ipl?\",'fours'),\n",
    "                    (\"who hit most fours in entire ipl?\",'fours'),\n",
    "                    (\"who scored most 4s in entire ipl?\",'fours'),\n",
    "                    (\"who hit most 4s in entire ipl?\",'fours'), \n",
    "                    (\"who scored most boundaries in entire ipl?\",'fours'),\n",
    "                    (\"who hit most boundaries in entire ipl?\",'fours'), \n",
    "                    (\"who scored most fours in whole ipl?\",'fours'),\n",
    "                    (\"who hit most fours in whole ipl?\",'fours'),\n",
    "                    (\"who scored most 4s in whole ipl?\",'fours'),\n",
    "                    (\"who hit most 4s in whole ipl?\",'fours'), \n",
    "                    (\"who scored most boundaries in whole ipl?\",'fours'),\n",
    "                    (\"who hit most boundaries in whole ipl?\",'fours'), \n",
    "                    (\"who scored most fours in this season?\",'fours'),\n",
    "                    (\"who hit most fours in this season?\",'fours'),\n",
    "                    (\"who scored most 4s in this season?\",'fours'),\n",
    "                    (\"who hit most 4s in this season?\",'fours'), \n",
    "                    (\"who scored most boundaries in this season?\",'fours'),\n",
    "                    (\"who hit most boundaries in this season?\",'fours'), \n",
    "                    (\"who scored most sixes in entire ipl?\",'sixes'),\n",
    "                    (\"who hit most sixes in entire ipl?\",'sixes'),\n",
    "                    (\"who scored most 6s in entire ipl?\",'sixes'),\n",
    "                    (\"who hit most 6s in entire ipl?\",'sixes'), \n",
    "                    (\"who scored most sixes in whole ipl?\",'sixes'),\n",
    "                    (\"who hit most sixes in whole ipl?\",'sixes'),\n",
    "                    (\"who scored most 6s in whole ipl?\",'sixes'),\n",
    "                    (\"who hit most 6s in whole ipl?\",'sixes'), \n",
    "                    (\"who scored most sixes in this season?\",'sixes'),\n",
    "                    (\"who hit most sixes in this season?\",'sixes'),\n",
    "                    (\"who scored most 6s in this season?\",'sixes'),\n",
    "                    (\"who hit most 6s in this season?\",'sixes'), \n",
    "                    \n",
    "                  ]"
   ]
  },
  {
   "cell_type": "code",
   "execution_count": 223,
   "metadata": {
    "collapsed": false,
    "deletable": true,
    "editable": true
   },
   "outputs": [],
   "source": [
    "naive_bayes_classifier = nltk.NaiveBayesClassifier.train([(feature_extractor(sentence), label) for sentence, label in train_sentences])"
   ]
  },
  {
   "cell_type": "code",
   "execution_count": 234,
   "metadata": {
    "collapsed": true,
    "deletable": true,
    "editable": true
   },
   "outputs": [],
   "source": [
    "user_query = \"how many runs are scored by Kolkata  in match 1?\"\n",
    "feature_set_another_sentence = feature_extractor(user_query)"
   ]
  },
  {
   "cell_type": "code",
   "execution_count": 235,
   "metadata": {
    "collapsed": false,
    "deletable": true,
    "editable": true
   },
   "outputs": [
    {
     "data": {
      "text/plain": [
       "'runs'"
      ]
     },
     "execution_count": 235,
     "metadata": {},
     "output_type": "execute_result"
    }
   ],
   "source": [
    "classifier = naive_bayes_classifier.classify(feature_set_another_sentence)"
   ]
  },
  {
   "cell_type": "code",
   "execution_count": 236,
   "metadata": {
    "collapsed": true,
    "deletable": true,
    "editable": true
   },
   "outputs": [],
   "source": [
    "from nltk.corpus import stopwords\n",
    "from nltk.tokenize import word_tokenize"
   ]
  },
  {
   "cell_type": "code",
   "execution_count": 237,
   "metadata": {
    "collapsed": false,
    "deletable": true,
    "editable": true
   },
   "outputs": [
    {
     "data": {
      "text/plain": [
       "['many', 'runs', 'scored', 'Travis', 'Head', 'match', '1', '?']"
      ]
     },
     "execution_count": 237,
     "metadata": {},
     "output_type": "execute_result"
    }
   ],
   "source": [
    "stop_words = set(stopwords.words(\"english\"))\n",
    "#print(stop_words)\n",
    "words = word_tokenize(user_query)\n",
    "words_filter = []\n",
    "for w in words:\n",
    "    if w not in stop_words:\n",
    "        #w = w.lower()\n",
    "        words_filter.append(w)\n",
    "words_filter      "
   ]
  },
  {
   "cell_type": "code",
   "execution_count": 238,
   "metadata": {
    "collapsed": false
   },
   "outputs": [
    {
     "data": {
      "text/plain": [
       "['many', 'run', 'scored', 'Travis', 'Head', 'match', '1', '?']"
      ]
     },
     "execution_count": 238,
     "metadata": {},
     "output_type": "execute_result"
    }
   ],
   "source": [
    "words_lemmatize = []\n",
    "from nltk.stem import WordNetLemmatizer\n",
    "lemmatizer = WordNetLemmatizer()\n",
    "for w in words_filter:\n",
    "    s = lemmatizer.lemmatize(w)\n",
    "    words_lemmatize.append(s)\n",
    "words_lemmatize    "
   ]
  },
  {
   "cell_type": "code",
   "execution_count": 239,
   "metadata": {
    "collapsed": false
   },
   "outputs": [
    {
     "data": {
      "text/plain": [
       "[('many', 'JJ'),\n",
       " ('run', 'VBP'),\n",
       " ('scored', 'VBN'),\n",
       " ('Travis', 'NNP'),\n",
       " ('Head', 'NNP'),\n",
       " ('match', 'VB'),\n",
       " ('1', 'CD'),\n",
       " ('?', '.')]"
      ]
     },
     "execution_count": 239,
     "metadata": {},
     "output_type": "execute_result"
    }
   ],
   "source": [
    "words_tagged = nltk.pos_tag(words_lemmatize)\n",
    "words_tagged"
   ]
  },
  {
   "cell_type": "code",
   "execution_count": null,
   "metadata": {
    "collapsed": true
   },
   "outputs": [],
   "source": [
    "for w in "
   ]
  },
  {
   "cell_type": "code",
   "execution_count": 232,
   "metadata": {
    "collapsed": false
   },
   "outputs": [
    {
     "data": {
      "text/plain": [
       "array(['Kolkata Knight Riders', 'Chennai Super Kings', 'Rajasthan Royals',\n",
       "       'Mumbai Indians', 'Deccan Chargers', 'Kings XI Punjab',\n",
       "       'Royal Challengers Bangalore', 'Delhi Daredevils'], dtype=object)"
      ]
     },
     "execution_count": 232,
     "metadata": {},
     "output_type": "execute_result"
    }
   ],
   "source": [
    "list_of_teams = matches.team1.unique()\n",
    "list_of_teams"
   ]
  },
  {
   "cell_type": "code",
   "execution_count": 241,
   "metadata": {
    "collapsed": true
   },
   "outputs": [],
   "source": [
    "chunkGram = r\"\"\"Chunk:{<NNP?>*<NNP>}\"\"\"\n",
    "chunkParser = nltk.RegexpParser(chunkGram)\n",
    "chunked = chunkParser.parse(words_tagged)\n",
    "chunked.draw()"
   ]
  },
  {
   "cell_type": "code",
   "execution_count": 242,
   "metadata": {
    "collapsed": false
   },
   "outputs": [
    {
     "data": {
      "text/plain": [
       "'Travis Head'"
      ]
     },
     "execution_count": 242,
     "metadata": {},
     "output_type": "execute_result"
    }
   ],
   "source": [
    "for node in chunked:\n",
    "    if hasattr(node, \"label\"):\n",
    "        words = [word for word, tag in node.leaves()]\n",
    "        chunked_words = ' '.join(words)\n",
    "chunked_words\n"
   ]
  },
  {
   "cell_type": "code",
   "execution_count": null,
   "metadata": {
    "collapsed": true
   },
   "outputs": [],
   "source": [
    "if classifier = 'runs':\n",
    "    s = 0 \n",
    "    for team_name in list_of_teams:\n",
    "        if chunked_words = team_name:\n",
    "            s = 1\n",
    "    if(s == 1):\n",
    "        \n",
    "            "
   ]
  }
 ],
 "metadata": {
  "kernelspec": {
   "display_name": "Python 3",
   "language": "python",
   "name": "python3"
  },
  "language_info": {
   "codemirror_mode": {
    "name": "ipython",
    "version": 3
   },
   "file_extension": ".py",
   "mimetype": "text/x-python",
   "name": "python",
   "nbconvert_exporter": "python",
   "pygments_lexer": "ipython3",
   "version": "3.5.2"
  }
 },
 "nbformat": 4,
 "nbformat_minor": 2
}
