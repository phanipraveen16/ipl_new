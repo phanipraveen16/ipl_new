{
 "cells": [
  {
   "cell_type": "code",
   "execution_count": 1,
   "metadata": {
    "collapsed": true,
    "deletable": true,
    "editable": true
   },
   "outputs": [],
   "source": [
    "import numpy as np\n",
    "import pandas as pd\n",
    "\n",
    "# --- NLTK PACKAGE ---\n",
    "import nltk\n",
    "\n",
    "# Tokenizers\n",
    "from nltk.tokenize import word_tokenize, sent_tokenize, PunktSentenceTokenizer, RegexpTokenizer\n",
    "\n",
    "# Stemming and Lemmatizing\n",
    "from nltk.stem import PorterStemmer, WordNetLemmatizer\n",
    "\n",
    "# Stopwords\n",
    "from nltk.corpus import stopwords, state_union\n",
    "\n",
    "# Lesk Module\n",
    "from nltk.wsd import lesk\n",
    "\n",
    "# Tagger\n",
    "from nltk.tag import UnigramTagger, BigramTagger, BrillTagger"
   ]
  },
  {
   "cell_type": "code",
   "execution_count": 2,
   "metadata": {
    "collapsed": true,
    "deletable": true,
    "editable": true
   },
   "outputs": [],
   "source": [
    "matches = pd.read_csv('/home/user/Downloads/IPLChatbot/matches.csv')\n",
    "deliveries = pd.read_csv('/home/user/Downloads/IPLChatbot/deliveries.csv')"
   ]
  },
  {
   "cell_type": "markdown",
   "metadata": {
    "deletable": true,
    "editable": true
   },
   "source": [
    "## RUNS"
   ]
  },
  {
   "cell_type": "code",
   "execution_count": null,
   "metadata": {
    "collapsed": true,
    "deletable": true,
    "editable": true
   },
   "outputs": [],
   "source": [
    "##  Runs scored by Batsman B1 in Match X\n",
    "def runs_batsman_match(batsman_name, match_id):\n",
    "    x = deliveries.groupby(['match_id', 'batsman'])['batsman_runs'].sum()\n",
    "    runs = x[match_id][batsman_name]\n",
    "    return runs \n",
    "\n",
    "# Total runs scored by SC Ganguly in match 5?\n",
    "# SC Ganguly score in match 1?\n",
    "# how many runs did Ganguly score in match 2?\n",
    "# Sachin's score in 4th match?\n",
    "# McCullum scored how much in match 3?\n",
    "# Dravid's runs in match 2?\n",
    "# Dravid's score in match 5?\n",
    "\n",
    "# How much did RCB Score in Match 1?\n",
    "# RCB Score in match 1?\n",
    "# RCB runs in match 1\n",
    "# total score of DDin 3rd match.\n",
    "# totals runs of Deccan in 8th match\n",
    "# final score of DD in 3rd match\n",
    "# Team score of rcb in match 4\n",
    "\n",
    "# maximum score in match 3\n",
    "# highest score in match 3\n",
    "# maximum scorer of match 2\n",
    "# leading scorer of match 1\n",
    "# top scorer of match 4\n",
    "\n",
    "\n",
    "# minimum score in match 3\n",
    "# lowest score in match 3\n",
    "# minimumscorer of match 2\n",
    "\n",
    "# who scored the maximum run match 3 by DD\n",
    "# top scorer for DD in match 3\n",
    "# top score in DD match 4?\n",
    "# highest scorer for DD in match 4\n",
    "\n",
    "# who scored the minimum run match 3 by DD\n",
    "# least scorer for DD in match 3\n",
    "# lowest score in DD match 4?\n",
    "# low scorer for DD in match 4\n",
    "\n",
    "#total runs scored by sachin?\n",
    "#aggregate runs by Abhay?\n",
    "#how many runs has sachin made in ipl1?\n",
    "#Total runs made by sachin?\n",
    "\n",
    "\n",
    "#What is the total runs made by RCB?\n",
    "#what is the runs made by RCB in ipl 9?\n",
    "#What is the sum total runs made by RCB\n",
    "\n",
    "# how many fours did Kohli score in match 2?\n",
    "# 4s hit by Sachin in match 1?\n",
    "# Fours hit by Abhay in match 5?\n",
    "\n",
    "# how many sixes did Kohli score in match 2?\n",
    "# 6s hit by Sachin in match 1?\n",
    "# Fours hit by Abhay in match 5?\n",
    "#how many sixes did Kohli hit in match 2?"
   ]
  },
  {
   "cell_type": "code",
   "execution_count": null,
   "metadata": {
    "collapsed": true,
    "deletable": true,
    "editable": true
   },
   "outputs": [],
   "source": [
    "## Total Runs scored in Match X by team Y\n",
    "def total_runs_team_match(team, match_id):\n",
    "    x = deliveries.groupby(['match_id','batting_team'])['total_runs'].sum()\n",
    "    total_runs_match = x[match_id][team]\n",
    "    return total_runs_match  \n",
    "\n",
    "## QUESTIONS\n",
    "# How much did RCB Score in Match 1?\n",
    "# RCB Score in match 1?\n",
    "# RCB runs in match 1\n",
    "# total score of DDin 3rd match.\n",
    "# totals runs of Deccan in 8th match\n",
    "# final score of DD in 3rd match"
   ]
  },
  {
   "cell_type": "code",
   "execution_count": null,
   "metadata": {
    "collapsed": true,
    "deletable": true,
    "editable": true
   },
   "outputs": [],
   "source": [
    "## Max scorer in match X\n",
    "\n",
    "def max_score_batsman_match(match_id):\n",
    "    x = deliveries.groupby(['match_id', 'batsman'])['batsman_runs'].sum()\n",
    "    name = x[match_id].idxmax()\n",
    "    runs = x[match_id].max()\n",
    "    return [name, runs]  \n",
    "\n",
    "## QUESTIONS\n",
    "# maximum score in match 3\n",
    "# highest score in match 3\n",
    "# maximum scorer of match 2"
   ]
  },
  {
   "cell_type": "code",
   "execution_count": null,
   "metadata": {
    "collapsed": true,
    "deletable": true,
    "editable": true
   },
   "outputs": [],
   "source": [
    "## Min scorer in match X\n",
    "\n",
    "def min_score_batsman_match(match_id):\n",
    "    x = deliveries.groupby(['match_id', 'batsman'])['batsman_runs'].sum()\n",
    "    name = x[match_id].idxmin()\n",
    "    runs = x[match_id].min()\n",
    "    return [name, runs]  \n",
    "\n",
    "## QUESTIONS\n",
    "# minimum score in match 3\n",
    "# lowest score in match 3\n",
    "# minimumscorer of match 2\n",
    "# who scored less runs in match 3\n",
    "# who was the least run scorer in match 3"
   ]
  },
  {
   "cell_type": "code",
   "execution_count": null,
   "metadata": {
    "collapsed": true,
    "deletable": true,
    "editable": true
   },
   "outputs": [],
   "source": [
    "## Max scorer in match X in Team Y\n",
    "    x = deliveries.groupby(['match_id','batting_team', 'batsman'])['batsman_runs'].sum()\n",
    "    name = x[match_id][team].idxmax()\n",
    "    runs = x[match_id][team].max()\n",
    "    return [name, runs]  \n",
    "\n",
    "## QUESTIONS\n",
    "# who scored the maximum run match 3 by DD\n",
    "# top scorer for DD in match 3\n",
    "# top score in DD match 4?\n",
    "# highest scorer for DD in match 4"
   ]
  },
  {
   "cell_type": "code",
   "execution_count": 5,
   "metadata": {
    "collapsed": true,
    "deletable": true,
    "editable": true
   },
   "outputs": [],
   "source": [
    "## Min scorer in match X in Team Y\n",
    "def min_score_batsman_match_inTeam(match_id, team):\n",
    "    x = deliveries.groupby(['match_id','batting_team', 'batsman'])['batsman_runs'].sum()\n",
    "    name = x[match_id][team].idxmin()\n",
    "    runs = x[match_id][team].min()\n",
    "    return [name, runs]  \n",
    "\n",
    "## QUESTIONS\n",
    "# who scored the minimum run match 3 by DD\n",
    "# least scorer for DD in match 3\n",
    "# lowest score in DD match 4?\n",
    "# low scorer for DD in match 4"
   ]
  },
  {
   "cell_type": "code",
   "execution_count": null,
   "metadata": {
    "collapsed": true,
    "deletable": true,
    "editable": true
   },
   "outputs": [],
   "source": [
    "## ith highest scorer \n",
    "def highest_scorer(i):\n",
    "    #player_runs = deliveries.groupby('batsman')['batsman_runs'].sum().sort_values(ascending =False)\n",
    "    player_name = deliveries.groupby('batsman')['batsman_runs'].sum().sort_values(ascending =False).iloc[i:i+1]\n",
    "    return  player_name\n",
    "# who was 3rd highest scorer in match 3\n",
    "# who was 3rd top scorer in match 4\n",
    "# who was 2nd maximum run scorer in match 6"
   ]
  },
  {
   "cell_type": "code",
   "execution_count": null,
   "metadata": {
    "collapsed": true,
    "deletable": true,
    "editable": true
   },
   "outputs": [],
   "source": [
    "## batsman total run\n",
    "def total_runs_batsman_IPL(batsman):\n",
    "    x = deliveries.groupby(['batsman'])['batsman_runs'].sum()\n",
    "    runs_batsman = x[batsman]\n",
    "    return runs_batsman\n",
    "#total runs scored by sachin?\n",
    "#aggregate runs by Abhay?\n",
    "#how many runs has sachin made in ipl1?\n",
    "#Total runs made by sachin?"
   ]
  },
  {
   "cell_type": "code",
   "execution_count": null,
   "metadata": {
    "collapsed": true,
    "deletable": true,
    "editable": true
   },
   "outputs": [],
   "source": [
    "#Total runsmade by a team\n",
    "def total_runs_team_IPL(team):\n",
    "    x = deliveries.groupby(['batting_team'])['total_runs'].sum()\n",
    "    total_runs_IPL = x[team]\n",
    "    return total_runs_IPL\n",
    "\n",
    "#What is the total runs made by RCB?\n",
    "#what is the runs made by RCB in ipl 9?\n",
    "#What is the sum total runs made by RCB\n"
   ]
  },
  {
   "cell_type": "code",
   "execution_count": null,
   "metadata": {
    "collapsed": true,
    "deletable": true,
    "editable": true
   },
   "outputs": [],
   "source": []
  },
  {
   "cell_type": "markdown",
   "metadata": {
    "deletable": true,
    "editable": true
   },
   "source": [
    "## BOUNDARY"
   ]
  },
  {
   "cell_type": "code",
   "execution_count": null,
   "metadata": {
    "collapsed": true,
    "deletable": true,
    "editable": true
   },
   "outputs": [],
   "source": [
    "\n",
    "def dot_balls_batsman_match(batsman, match_id):\n",
    "    x = deliveries[(deliveries['batsman'] == batsman) & (deliveries['match_id'] == match_id) & (deliveries['total_runs'] == 0)]\n",
    "    dot_balls = x.shape[0]\n",
    "    return dot_balls\n",
    "# rahul faced how many dot balls in match 1\n"
   ]
  },
  {
   "cell_type": "code",
   "execution_count": null,
   "metadata": {
    "collapsed": true,
    "deletable": true,
    "editable": true
   },
   "outputs": [],
   "source": [
    "#boundaries hit by a particular batman in particular match\n",
    "def b_4_batsman_match(batsman, match_id):\n",
    "    x = deliveries[(deliveries['batsman'] == batsman) & (deliveries['match_id'] == match_id) & (deliveries['total_runs'] == 4)]\n",
    "    b_4 = x.shape[0]\n",
    "    return b_4\n",
    "# how many fours did Kohli score in match 2?\n",
    "# 4s hit by Sachin in match 1?\n",
    "# Fours hit by Abhay in match 5?\n"
   ]
  },
  {
   "cell_type": "code",
   "execution_count": 6,
   "metadata": {
    "collapsed": true,
    "deletable": true,
    "editable": true
   },
   "outputs": [],
   "source": [
    "\n",
    "#Sixes hit by batsman inparticular match\n",
    "def b_6_batsman_match(batsman, match_id):\n",
    "    x = deliveries[(deliveries['batsman'] == batsman) & (deliveries['match_id'] == match_id) & (deliveries['total_runs'] == 6)]\n",
    "    b_6 = x.shape[0]\n",
    "    return b_6\n",
    "# how many sixes did Kohli score in match 2?\n",
    "# 6s hit by Sachin in match 1?\n",
    "# Fours hit by Abhay in match 5?\n",
    "#how many sixes did Kohli hit in match 2?"
   ]
  },
  {
   "cell_type": "code",
   "execution_count": null,
   "metadata": {
    "collapsed": true,
    "deletable": true,
    "editable": true
   },
   "outputs": [],
   "source": [
    "\n",
    "\n",
    "\n",
    "def team_fours(match_id, batting_team):\n",
    "    team_fours = deliveries[deliveries.batsman_runs == 4]\n",
    "    team_fours_count = team_fours.groupby(['match_id','batting_team']).count()['inning']\n",
    "    return team_fours_count[match_id][batting_team]\n",
    "# how many boundaries are scored by rcb in match 6\n",
    "# how many 4s are scored by rcb in match 6\n",
    "# how many fours are scored by rcb in match 6\n",
    "# how many boundaries are hit by rcb in match 6\n",
    "# how many 4s are hit by rcb in match 6\n",
    "# how many fours are hit by rcb in match 6\n",
    "# what are total boundaries of rcb in match 6\n",
    "# what are total fours of rcb in match 6\n",
    "# what are total 4s of rcb in match 5\n",
    "\n",
    "def team_sixes(match_id, batting_team):\n",
    "    team_sixes = deliveries[deliveries.batsman_runs == 6]\n",
    "    team_sixes_count = team_sixes.groupby(['match_id','batting_team']).count()['inning']\n",
    "    return team_sixes_count[match_id][batting_team]\n",
    "\n",
    "# how many 6s are scored by rcb in match 6\n",
    "# how many sixes are scored by rcb in match 6\n",
    "# how many 6s are hit by rcb in match 6\n",
    "# how many sixes are hit by rcb in match 6\n",
    "# what are total sixes of rcb in match 6\n",
    "# what are total 6s of rcb in match 5\n",
    "\n",
    "\n",
    "def overall_fours_count(batsman):\n",
    "    fours = deliveries[deliveries.batsman_runs == 4]\n",
    "    fours_count = fours.groupby('batsman').count()['inning']\n",
    "    return fours_count[batsman]\n",
    "# how many fours are hit by kohli in this season?\n",
    "# how many 4s are hit by kohli in this season?\n",
    "# how many boundaries are hit by kohli in this season?\n",
    "# how many fours are scored by kohli in this season?\n",
    "# how many 4s are scored by kohli in this season?\n",
    "# how many boundaries are hit by kohli in this season?\n",
    "# how many boundaries are hit by kohli in this entire ipl?\n",
    "# how many 4s are hit by kohli in this entire ipl?\n",
    "# how many fours are hit by kohli in this entire ipl?\n",
    "# how many boundaries are hit by kohli in this whole ipl?\n",
    "# how many 4s are hit by kohli in this whole ipl?\n",
    "# how many fours are hit by kohli in this whole ipl?\n",
    "\n",
    "\n",
    "\n",
    "def overall_sixes_count(batsman):\n",
    "    sixes = deliveries[deliveries.batsman_runs == 6]\n",
    "    sixes_count = sixes.groupby('batsman').count()['inning']\n",
    "    return sixes_count[batsman]\n",
    "# how many sixes are hit by kohli in this season?\n",
    "# how many 6s are hit by kohli in this season?\n",
    "# how many sixes are scored by kohli in this season?\n",
    "# how many 6s are scored by kohli in this season?\n",
    "# how many 6s are hit by kohli in this entire ipl?\n",
    "# how many sixes are hit by kohli in this entire ipl?\n",
    "# how many 6s are hit by kohli in this whole ipl?\n",
    "# how many sixes are hit by kohli in this whole ipl?\n",
    "\n",
    "\n",
    "def most_fours_count(i):\n",
    "    fours = deliveries[deliveries.batsman_runs == 4]\n",
    "    fours_count = fours.groupby('batsman').count()['inning']\n",
    "    return fours_count.sort_values(ascending = False).iloc[i:i+1]\n",
    "# who scored most fours in entire ipl?\n",
    "# who hit most fours in entire ipl?\n",
    "# who scored most 4s in entire ipl?\n",
    "# who hit most 4s in entire ipl? \n",
    "# who scored most boundaries in entire ipl?\n",
    "# who hit most boundaries in entire ipl? \n",
    "# who scored most fours in whole ipl?\n",
    "# who hit most fours in whole ipl?\n",
    "# who scored most 4s in whole ipl?\n",
    "# who hit most 4s in whole ipl? \n",
    "# who scored most boundaries in whole ipl?\n",
    "# who hit most boundaries in whole ipl? \n",
    "# who scored most fours in this season?\n",
    "# who hit most fours in this season?\n",
    "# who scored most 4s in this season?\n",
    "# who hit most 4s in this season? \n",
    "# who scored most boundaries in this season?\n",
    "# who hit most boundaries in this season? \n",
    "\n",
    "\n",
    "\n",
    "def most_sixes_count():\n",
    "    sixes = deliveries[deliveries.batsman_runs == 6]\n",
    "    sixes_count = sixes.groupby('batsman').count()['inning'].sort_values(ascending = False).iloc[0:1]\n",
    "    return sixes_count\n",
    "# who scored most sixes in entire ipl?\n",
    "# who hit most sixes in entire ipl?\n",
    "# who scored most 6s in entire ipl?\n",
    "# who hit most 6s in entire ipl? \n",
    "# who scored most sixes in whole ipl?\n",
    "# who hit most sixes in whole ipl?\n",
    "# who scored most 6s in whole ipl?\n",
    "# who hit most 6s in whole ipl? \n",
    "# who scored most sixes in this season?\n",
    "# who hit most sixes in this season?\n",
    "# who scored most 6s in this season?\n",
    "# who hit most 6s in this season? \n"
   ]
  },
  {
   "cell_type": "markdown",
   "metadata": {
    "deletable": true,
    "editable": true
   },
   "source": [
    "## STRIKE RATE"
   ]
  },
  {
   "cell_type": "code",
   "execution_count": null,
   "metadata": {
    "collapsed": true,
    "deletable": true,
    "editable": true
   },
   "outputs": [],
   "source": [
    "def balls_faced_batsman_match(batsman, match_id):\n",
    "    x = deliveries[(deliveries['batsman'] == batsman) & (deliveries['match_id'] == match_id) & (deliveries['wide_runs'] == 0)]\n",
    "    return x.shape[0]\n",
    "# how many balls were faced by BB McCullum in match 3rd?\n",
    "# how many deliveries were faced by BB Mccullum in match 3?\n",
    "\n",
    "def strikeRate_batsman_match(batsman, match_id):\n",
    "    runs = runs_batsman_match(batsman, match_id)\n",
    "    balls = balls_faced_batsman_match(batsman, match_id)\n",
    "    \n",
    "    strike_rate = runs/balls * 100\n",
    "    return strike_rate\n",
    "# what was the strike rate of BB McCullum in match 1?\n",
    "# BB McCullum's strike rate in 1st match?\n",
    "\n",
    "def top_scorers():\n",
    "    orange = deliveries.groupby('batsman')['batsman_runs'].sum().sort_values(ascending = False).head()\n",
    "    return orange\n",
    "# Who are leading run scorers in this season?\n",
    "# who are leading run scorers in this ipl?\n",
    "# who are leading run scorers in this total ipl? \n",
    "# who are leading run scorers in this entire ipl?\n",
    "# Who are top run scorers in this season?\n",
    "# who are top run scorers in this ipl?\n",
    "# who are top run scorers in this total ipl? \n",
    "# who are top run scorers in this entire ipl?\n",
    "\n",
    "\n",
    "\n",
    "\n",
    "def total_runs_scored_IPL():\n",
    "    runs_count = deliveries.groupby('batsman')['batsman_runs'].sum()\n",
    "    return runs_count\n",
    "\n",
    "\n",
    "def total_ball_faced_IPL():\n",
    "    balls = deliveries[(deliveries.wide_runs == 0)].groupby('batsman')['inning']\n",
    "    balls_count = balls.count()\n",
    "    return balls_count\n",
    "\n",
    "def total_strike_rate_IPL(i):\n",
    "    strike_rate = (total_runs_scored_IPL()/total_ball_faced_IPL())*100\n",
    "    return strike_rate.sort_values(ascending = False).iloc[i:i+1]\n"
   ]
  }
 ],
 "metadata": {
  "kernelspec": {
   "display_name": "Python 3",
   "language": "python",
   "name": "python3"
  },
  "language_info": {
   "codemirror_mode": {
    "name": "ipython",
    "version": 3
   },
   "file_extension": ".py",
   "mimetype": "text/x-python",
   "name": "python",
   "nbconvert_exporter": "python",
   "pygments_lexer": "ipython3",
   "version": "3.5.2"
  }
 },
 "nbformat": 4,
 "nbformat_minor": 2
}
