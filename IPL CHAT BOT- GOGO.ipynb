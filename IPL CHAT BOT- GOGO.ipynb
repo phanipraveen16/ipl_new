{
 "cells": [
  {
   "cell_type": "markdown",
   "metadata": {
    "deletable": true,
    "editable": true
   },
   "source": [
    "# IPL CHAT BOX"
   ]
  },
  {
   "cell_type": "markdown",
   "metadata": {
    "deletable": true,
    "editable": true
   },
   "source": [
    "### PROBLEM STATEMENT : \n",
    "\n",
    "##### To develop a Q&A chat bot which responds to user's queries based on NLP statistics."
   ]
  },
  {
   "cell_type": "markdown",
   "metadata": {
    "deletable": true,
    "editable": true
   },
   "source": [
    "#### .\n",
    "\n",
    "\n",
    "\n",
    "#### ."
   ]
  },
  {
   "cell_type": "code",
   "execution_count": 1,
   "metadata": {
    "collapsed": true,
    "deletable": true,
    "editable": true
   },
   "outputs": [],
   "source": [
    "import numpy as np\n",
    "import pandas as pd\n",
    "\n",
    "# --- NLTK PACKAGE ---\n",
    "import nltk\n",
    "\n",
    "# Tokenizers\n",
    "from nltk.tokenize import word_tokenize, sent_tokenize, PunktSentenceTokenizer, RegexpTokenizer\n",
    "\n",
    "# Stemming and Lemmatizing\n",
    "from nltk.stem import PorterStemmer, WordNetLemmatizer\n",
    "\n",
    "# Stopwords\n",
    "from nltk.corpus import stopwords, state_union\n",
    "\n",
    "# Lesk Module\n",
    "from nltk.wsd import lesk\n",
    "\n",
    "# Tagger\n",
    "from nltk.tag import UnigramTagger, BigramTagger, BrillTagger"
   ]
  },
  {
   "cell_type": "code",
   "execution_count": 12,
   "metadata": {
    "collapsed": true,
    "deletable": true,
    "editable": true
   },
   "outputs": [],
   "source": [
    "matches = pd.read_csv('matches.csv')\n",
    "deliveries = pd.read_csv('deliveries.csv')"
   ]
  },
  {
   "cell_type": "code",
   "execution_count": 13,
   "metadata": {
    "collapsed": false,
    "deletable": true,
    "editable": true,
    "scrolled": false
   },
   "outputs": [
    {
     "data": {
      "text/html": [
       "<div>\n",
       "<table border=\"1\" class=\"dataframe\">\n",
       "  <thead>\n",
       "    <tr style=\"text-align: right;\">\n",
       "      <th></th>\n",
       "      <th>id</th>\n",
       "      <th>season</th>\n",
       "      <th>city</th>\n",
       "      <th>date</th>\n",
       "      <th>team1</th>\n",
       "      <th>team2</th>\n",
       "      <th>toss_winner</th>\n",
       "      <th>toss_decision</th>\n",
       "      <th>result</th>\n",
       "      <th>dl_applied</th>\n",
       "      <th>winner</th>\n",
       "      <th>win_by_runs</th>\n",
       "      <th>win_by_wickets</th>\n",
       "      <th>player_of_match</th>\n",
       "      <th>venue</th>\n",
       "      <th>umpire1</th>\n",
       "      <th>umpire2</th>\n",
       "    </tr>\n",
       "  </thead>\n",
       "  <tbody>\n",
       "    <tr>\n",
       "      <th>0</th>\n",
       "      <td>1</td>\n",
       "      <td>2008</td>\n",
       "      <td>Bangalore</td>\n",
       "      <td>2008-04-18</td>\n",
       "      <td>Kolkata Knight Riders</td>\n",
       "      <td>Royal Challengers Bangalore</td>\n",
       "      <td>Royal Challengers Bangalore</td>\n",
       "      <td>field</td>\n",
       "      <td>normal</td>\n",
       "      <td>0</td>\n",
       "      <td>Kolkata Knight Riders</td>\n",
       "      <td>140</td>\n",
       "      <td>0</td>\n",
       "      <td>BB McCullum</td>\n",
       "      <td>M Chinnaswamy Stadium</td>\n",
       "      <td>Asad Rauf</td>\n",
       "      <td>RE Koertzen</td>\n",
       "    </tr>\n",
       "    <tr>\n",
       "      <th>1</th>\n",
       "      <td>2</td>\n",
       "      <td>2008</td>\n",
       "      <td>Chandigarh</td>\n",
       "      <td>2008-04-19</td>\n",
       "      <td>Chennai Super Kings</td>\n",
       "      <td>Kings XI Punjab</td>\n",
       "      <td>Chennai Super Kings</td>\n",
       "      <td>bat</td>\n",
       "      <td>normal</td>\n",
       "      <td>0</td>\n",
       "      <td>Chennai Super Kings</td>\n",
       "      <td>33</td>\n",
       "      <td>0</td>\n",
       "      <td>MEK Hussey</td>\n",
       "      <td>Punjab Cricket Association Stadium, Mohali</td>\n",
       "      <td>MR Benson</td>\n",
       "      <td>SL Shastri</td>\n",
       "    </tr>\n",
       "    <tr>\n",
       "      <th>2</th>\n",
       "      <td>3</td>\n",
       "      <td>2008</td>\n",
       "      <td>Delhi</td>\n",
       "      <td>2008-04-19</td>\n",
       "      <td>Rajasthan Royals</td>\n",
       "      <td>Delhi Daredevils</td>\n",
       "      <td>Rajasthan Royals</td>\n",
       "      <td>bat</td>\n",
       "      <td>normal</td>\n",
       "      <td>0</td>\n",
       "      <td>Delhi Daredevils</td>\n",
       "      <td>0</td>\n",
       "      <td>9</td>\n",
       "      <td>MF Maharoof</td>\n",
       "      <td>Feroz Shah Kotla</td>\n",
       "      <td>Aleem Dar</td>\n",
       "      <td>GA Pratapkumar</td>\n",
       "    </tr>\n",
       "    <tr>\n",
       "      <th>3</th>\n",
       "      <td>4</td>\n",
       "      <td>2008</td>\n",
       "      <td>Mumbai</td>\n",
       "      <td>2008-04-20</td>\n",
       "      <td>Mumbai Indians</td>\n",
       "      <td>Royal Challengers Bangalore</td>\n",
       "      <td>Mumbai Indians</td>\n",
       "      <td>bat</td>\n",
       "      <td>normal</td>\n",
       "      <td>0</td>\n",
       "      <td>Royal Challengers Bangalore</td>\n",
       "      <td>0</td>\n",
       "      <td>5</td>\n",
       "      <td>MV Boucher</td>\n",
       "      <td>Wankhede Stadium</td>\n",
       "      <td>SJ Davis</td>\n",
       "      <td>DJ Harper</td>\n",
       "    </tr>\n",
       "    <tr>\n",
       "      <th>4</th>\n",
       "      <td>5</td>\n",
       "      <td>2008</td>\n",
       "      <td>Kolkata</td>\n",
       "      <td>2008-04-20</td>\n",
       "      <td>Deccan Chargers</td>\n",
       "      <td>Kolkata Knight Riders</td>\n",
       "      <td>Deccan Chargers</td>\n",
       "      <td>bat</td>\n",
       "      <td>normal</td>\n",
       "      <td>0</td>\n",
       "      <td>Kolkata Knight Riders</td>\n",
       "      <td>0</td>\n",
       "      <td>5</td>\n",
       "      <td>DJ Hussey</td>\n",
       "      <td>Eden Gardens</td>\n",
       "      <td>BF Bowden</td>\n",
       "      <td>K Hariharan</td>\n",
       "    </tr>\n",
       "  </tbody>\n",
       "</table>\n",
       "</div>"
      ],
      "text/plain": [
       "   id  season        city        date                  team1  \\\n",
       "0   1    2008   Bangalore  2008-04-18  Kolkata Knight Riders   \n",
       "1   2    2008  Chandigarh  2008-04-19    Chennai Super Kings   \n",
       "2   3    2008       Delhi  2008-04-19       Rajasthan Royals   \n",
       "3   4    2008      Mumbai  2008-04-20         Mumbai Indians   \n",
       "4   5    2008     Kolkata  2008-04-20        Deccan Chargers   \n",
       "\n",
       "                         team2                  toss_winner toss_decision  \\\n",
       "0  Royal Challengers Bangalore  Royal Challengers Bangalore         field   \n",
       "1              Kings XI Punjab          Chennai Super Kings           bat   \n",
       "2             Delhi Daredevils             Rajasthan Royals           bat   \n",
       "3  Royal Challengers Bangalore               Mumbai Indians           bat   \n",
       "4        Kolkata Knight Riders              Deccan Chargers           bat   \n",
       "\n",
       "   result  dl_applied                       winner  win_by_runs  \\\n",
       "0  normal           0        Kolkata Knight Riders          140   \n",
       "1  normal           0          Chennai Super Kings           33   \n",
       "2  normal           0             Delhi Daredevils            0   \n",
       "3  normal           0  Royal Challengers Bangalore            0   \n",
       "4  normal           0        Kolkata Knight Riders            0   \n",
       "\n",
       "   win_by_wickets player_of_match                                       venue  \\\n",
       "0               0     BB McCullum                       M Chinnaswamy Stadium   \n",
       "1               0      MEK Hussey  Punjab Cricket Association Stadium, Mohali   \n",
       "2               9     MF Maharoof                            Feroz Shah Kotla   \n",
       "3               5      MV Boucher                            Wankhede Stadium   \n",
       "4               5       DJ Hussey                                Eden Gardens   \n",
       "\n",
       "     umpire1         umpire2  \n",
       "0  Asad Rauf     RE Koertzen  \n",
       "1  MR Benson      SL Shastri  \n",
       "2  Aleem Dar  GA Pratapkumar  \n",
       "3   SJ Davis       DJ Harper  \n",
       "4  BF Bowden     K Hariharan  "
      ]
     },
     "execution_count": 13,
     "metadata": {},
     "output_type": "execute_result"
    }
   ],
   "source": [
    "matches.head()"
   ]
  },
  {
   "cell_type": "code",
   "execution_count": 14,
   "metadata": {
    "collapsed": false,
    "deletable": true,
    "editable": true
   },
   "outputs": [
    {
     "data": {
      "text/html": [
       "<div>\n",
       "<table border=\"1\" class=\"dataframe\">\n",
       "  <thead>\n",
       "    <tr style=\"text-align: right;\">\n",
       "      <th></th>\n",
       "      <th>match_id</th>\n",
       "      <th>inning</th>\n",
       "      <th>batting_team</th>\n",
       "      <th>bowling_team</th>\n",
       "      <th>over</th>\n",
       "      <th>ball</th>\n",
       "      <th>batsman</th>\n",
       "      <th>non_striker</th>\n",
       "      <th>bowler</th>\n",
       "      <th>is_super_over</th>\n",
       "      <th>...</th>\n",
       "      <th>bye_runs</th>\n",
       "      <th>legbye_runs</th>\n",
       "      <th>noball_runs</th>\n",
       "      <th>penalty_runs</th>\n",
       "      <th>batsman_runs</th>\n",
       "      <th>extra_runs</th>\n",
       "      <th>total_runs</th>\n",
       "      <th>player_dismissed</th>\n",
       "      <th>dismissal_kind</th>\n",
       "      <th>fielder</th>\n",
       "    </tr>\n",
       "  </thead>\n",
       "  <tbody>\n",
       "    <tr>\n",
       "      <th>0</th>\n",
       "      <td>1</td>\n",
       "      <td>1</td>\n",
       "      <td>Kolkata Knight Riders</td>\n",
       "      <td>Royal Challengers Bangalore</td>\n",
       "      <td>1</td>\n",
       "      <td>1</td>\n",
       "      <td>SC Ganguly</td>\n",
       "      <td>BB McCullum</td>\n",
       "      <td>P Kumar</td>\n",
       "      <td>0</td>\n",
       "      <td>...</td>\n",
       "      <td>0</td>\n",
       "      <td>1</td>\n",
       "      <td>0</td>\n",
       "      <td>0</td>\n",
       "      <td>0</td>\n",
       "      <td>1</td>\n",
       "      <td>1</td>\n",
       "      <td>NaN</td>\n",
       "      <td>NaN</td>\n",
       "      <td>NaN</td>\n",
       "    </tr>\n",
       "    <tr>\n",
       "      <th>1</th>\n",
       "      <td>1</td>\n",
       "      <td>1</td>\n",
       "      <td>Kolkata Knight Riders</td>\n",
       "      <td>Royal Challengers Bangalore</td>\n",
       "      <td>1</td>\n",
       "      <td>2</td>\n",
       "      <td>BB McCullum</td>\n",
       "      <td>SC Ganguly</td>\n",
       "      <td>P Kumar</td>\n",
       "      <td>0</td>\n",
       "      <td>...</td>\n",
       "      <td>0</td>\n",
       "      <td>0</td>\n",
       "      <td>0</td>\n",
       "      <td>0</td>\n",
       "      <td>0</td>\n",
       "      <td>0</td>\n",
       "      <td>0</td>\n",
       "      <td>NaN</td>\n",
       "      <td>NaN</td>\n",
       "      <td>NaN</td>\n",
       "    </tr>\n",
       "    <tr>\n",
       "      <th>2</th>\n",
       "      <td>1</td>\n",
       "      <td>1</td>\n",
       "      <td>Kolkata Knight Riders</td>\n",
       "      <td>Royal Challengers Bangalore</td>\n",
       "      <td>1</td>\n",
       "      <td>3</td>\n",
       "      <td>BB McCullum</td>\n",
       "      <td>SC Ganguly</td>\n",
       "      <td>P Kumar</td>\n",
       "      <td>0</td>\n",
       "      <td>...</td>\n",
       "      <td>0</td>\n",
       "      <td>0</td>\n",
       "      <td>0</td>\n",
       "      <td>0</td>\n",
       "      <td>0</td>\n",
       "      <td>1</td>\n",
       "      <td>1</td>\n",
       "      <td>NaN</td>\n",
       "      <td>NaN</td>\n",
       "      <td>NaN</td>\n",
       "    </tr>\n",
       "    <tr>\n",
       "      <th>3</th>\n",
       "      <td>1</td>\n",
       "      <td>1</td>\n",
       "      <td>Kolkata Knight Riders</td>\n",
       "      <td>Royal Challengers Bangalore</td>\n",
       "      <td>1</td>\n",
       "      <td>4</td>\n",
       "      <td>BB McCullum</td>\n",
       "      <td>SC Ganguly</td>\n",
       "      <td>P Kumar</td>\n",
       "      <td>0</td>\n",
       "      <td>...</td>\n",
       "      <td>0</td>\n",
       "      <td>0</td>\n",
       "      <td>0</td>\n",
       "      <td>0</td>\n",
       "      <td>0</td>\n",
       "      <td>0</td>\n",
       "      <td>0</td>\n",
       "      <td>NaN</td>\n",
       "      <td>NaN</td>\n",
       "      <td>NaN</td>\n",
       "    </tr>\n",
       "    <tr>\n",
       "      <th>4</th>\n",
       "      <td>1</td>\n",
       "      <td>1</td>\n",
       "      <td>Kolkata Knight Riders</td>\n",
       "      <td>Royal Challengers Bangalore</td>\n",
       "      <td>1</td>\n",
       "      <td>5</td>\n",
       "      <td>BB McCullum</td>\n",
       "      <td>SC Ganguly</td>\n",
       "      <td>P Kumar</td>\n",
       "      <td>0</td>\n",
       "      <td>...</td>\n",
       "      <td>0</td>\n",
       "      <td>0</td>\n",
       "      <td>0</td>\n",
       "      <td>0</td>\n",
       "      <td>0</td>\n",
       "      <td>0</td>\n",
       "      <td>0</td>\n",
       "      <td>NaN</td>\n",
       "      <td>NaN</td>\n",
       "      <td>NaN</td>\n",
       "    </tr>\n",
       "  </tbody>\n",
       "</table>\n",
       "<p>5 rows × 21 columns</p>\n",
       "</div>"
      ],
      "text/plain": [
       "   match_id  inning           batting_team                 bowling_team  over  \\\n",
       "0         1       1  Kolkata Knight Riders  Royal Challengers Bangalore     1   \n",
       "1         1       1  Kolkata Knight Riders  Royal Challengers Bangalore     1   \n",
       "2         1       1  Kolkata Knight Riders  Royal Challengers Bangalore     1   \n",
       "3         1       1  Kolkata Knight Riders  Royal Challengers Bangalore     1   \n",
       "4         1       1  Kolkata Knight Riders  Royal Challengers Bangalore     1   \n",
       "\n",
       "   ball      batsman  non_striker   bowler  is_super_over   ...    bye_runs  \\\n",
       "0     1   SC Ganguly  BB McCullum  P Kumar              0   ...           0   \n",
       "1     2  BB McCullum   SC Ganguly  P Kumar              0   ...           0   \n",
       "2     3  BB McCullum   SC Ganguly  P Kumar              0   ...           0   \n",
       "3     4  BB McCullum   SC Ganguly  P Kumar              0   ...           0   \n",
       "4     5  BB McCullum   SC Ganguly  P Kumar              0   ...           0   \n",
       "\n",
       "   legbye_runs  noball_runs  penalty_runs  batsman_runs  extra_runs  \\\n",
       "0            1            0             0             0           1   \n",
       "1            0            0             0             0           0   \n",
       "2            0            0             0             0           1   \n",
       "3            0            0             0             0           0   \n",
       "4            0            0             0             0           0   \n",
       "\n",
       "   total_runs  player_dismissed dismissal_kind fielder  \n",
       "0           1               NaN            NaN     NaN  \n",
       "1           0               NaN            NaN     NaN  \n",
       "2           1               NaN            NaN     NaN  \n",
       "3           0               NaN            NaN     NaN  \n",
       "4           0               NaN            NaN     NaN  \n",
       "\n",
       "[5 rows x 21 columns]"
      ]
     },
     "execution_count": 14,
     "metadata": {},
     "output_type": "execute_result"
    }
   ],
   "source": [
    "deliveries.head()"
   ]
  },
  {
   "cell_type": "markdown",
   "metadata": {
    "deletable": true,
    "editable": true
   },
   "source": [
    "# FUNCTIONS"
   ]
  },
  {
   "cell_type": "markdown",
   "metadata": {
    "deletable": true,
    "editable": true
   },
   "source": [
    "#### BATSMAN STATS"
   ]
  },
  {
   "cell_type": "markdown",
   "metadata": {
    "deletable": true,
    "editable": true
   },
   "source": [
    "#### Runs scored by Batsman B1 in Match X"
   ]
  },
  {
   "cell_type": "code",
   "execution_count": 15,
   "metadata": {
    "collapsed": true,
    "deletable": true,
    "editable": true
   },
   "outputs": [],
   "source": [
    "def runs_batsman_match(batsman_name, match_id):\n",
    "    x = deliveries.groupby(['match_id', 'batsman'])['batsman_runs'].sum()\n",
    "    runs = x[match_id][batsman_name]\n",
    "    return runs  "
   ]
  },
  {
   "cell_type": "code",
   "execution_count": 16,
   "metadata": {
    "collapsed": false,
    "deletable": true,
    "editable": true
   },
   "outputs": [
    {
     "data": {
      "text/plain": [
       "10"
      ]
     },
     "execution_count": 16,
     "metadata": {},
     "output_type": "execute_result"
    }
   ],
   "source": [
    "runs_batsman_match('SC Ganguly', 1)"
   ]
  },
  {
   "cell_type": "markdown",
   "metadata": {
    "deletable": true,
    "editable": true
   },
   "source": [
    "#### Total Runs scored in Match X by team Y"
   ]
  },
  {
   "cell_type": "code",
   "execution_count": 17,
   "metadata": {
    "collapsed": true,
    "deletable": true,
    "editable": true
   },
   "outputs": [],
   "source": [
    "def total_runs_team_match(team, match_id):\n",
    "    x = deliveries.groupby(['match_id','batting_team'])['total_runs'].sum()\n",
    "    total_runs_match = x[match_id][team]\n",
    "    return total_runs_match  "
   ]
  },
  {
   "cell_type": "code",
   "execution_count": 18,
   "metadata": {
    "collapsed": false,
    "deletable": true,
    "editable": true
   },
   "outputs": [
    {
     "data": {
      "text/plain": [
       "82"
      ]
     },
     "execution_count": 18,
     "metadata": {},
     "output_type": "execute_result"
    }
   ],
   "source": [
    "total_runs_team_match('Royal Challengers Bangalore', 1)"
   ]
  },
  {
   "cell_type": "markdown",
   "metadata": {
    "deletable": true,
    "editable": true
   },
   "source": [
    "#### Max scorer in match X"
   ]
  },
  {
   "cell_type": "code",
   "execution_count": 19,
   "metadata": {
    "collapsed": true,
    "deletable": true,
    "editable": true
   },
   "outputs": [],
   "source": [
    "def max_score_batsman_match(match_id):\n",
    "    x = deliveries.groupby(['match_id', 'batsman'])['batsman_runs'].sum()\n",
    "    name = x[match_id].idxmax()\n",
    "    runs = x[match_id].max()\n",
    "    return [name, runs]  "
   ]
  },
  {
   "cell_type": "code",
   "execution_count": 20,
   "metadata": {
    "collapsed": false,
    "deletable": true,
    "editable": true
   },
   "outputs": [
    {
     "data": {
      "text/plain": [
       "['RV Uthappa', 48]"
      ]
     },
     "execution_count": 20,
     "metadata": {},
     "output_type": "execute_result"
    }
   ],
   "source": [
    "max_score_batsman_match(4)"
   ]
  },
  {
   "cell_type": "markdown",
   "metadata": {
    "deletable": true,
    "editable": true
   },
   "source": [
    "#### Max scorer in match X in Team Y"
   ]
  },
  {
   "cell_type": "code",
   "execution_count": 21,
   "metadata": {
    "collapsed": true,
    "deletable": true,
    "editable": true
   },
   "outputs": [],
   "source": [
    "def max_score_batsman_match_inTeam(match_id, team):\n",
    "    x = deliveries.groupby(['match_id','batting_team', 'batsman'])['batsman_runs'].sum()\n",
    "    name = x[match_id][team].idxmax()\n",
    "    runs = x[match_id][team].max()\n",
    "    return [name, runs]  "
   ]
  },
  {
   "cell_type": "code",
   "execution_count": 22,
   "metadata": {
    "collapsed": false,
    "deletable": true,
    "editable": true
   },
   "outputs": [
    {
     "data": {
      "text/plain": [
       "['P Kumar', 18]"
      ]
     },
     "execution_count": 22,
     "metadata": {},
     "output_type": "execute_result"
    }
   ],
   "source": [
    "max_score_batsman_match_inTeam(1, 'Royal Challengers Bangalore')"
   ]
  },
  {
   "cell_type": "markdown",
   "metadata": {
    "deletable": true,
    "editable": true
   },
   "source": [
    "#### Lowest Scorer in Match X"
   ]
  },
  {
   "cell_type": "code",
   "execution_count": 23,
   "metadata": {
    "collapsed": true,
    "deletable": true,
    "editable": true
   },
   "outputs": [],
   "source": [
    "def min_score_batsman_match(match_id):\n",
    "    x = deliveries.groupby(['match_id', 'batsman'])['batsman_runs'].sum()\n",
    "    name = x[match_id].idxmin()\n",
    "    runs = x[match_id].min()\n",
    "    return [name, runs]  \n"
   ]
  },
  {
   "cell_type": "code",
   "execution_count": 24,
   "metadata": {
    "collapsed": false,
    "deletable": true,
    "editable": true
   },
   "outputs": [
    {
     "data": {
      "text/plain": [
       "['B Akhil', 0]"
      ]
     },
     "execution_count": 24,
     "metadata": {},
     "output_type": "execute_result"
    }
   ],
   "source": [
    "min_score_batsman_match(1)"
   ]
  },
  {
   "cell_type": "markdown",
   "metadata": {
    "deletable": true,
    "editable": true
   },
   "source": [
    "#### Min scorer in match X in Team Y"
   ]
  },
  {
   "cell_type": "code",
   "execution_count": 25,
   "metadata": {
    "collapsed": true,
    "deletable": true,
    "editable": true
   },
   "outputs": [],
   "source": [
    "def min_score_batsman_match_inTeam(match_id, team):\n",
    "    x = deliveries.groupby(['match_id','batting_team', 'batsman'])['batsman_runs'].sum()\n",
    "    name = x[match_id][team].idxmin()\n",
    "    runs = x[match_id][team].min()\n",
    "    return [name, runs]  "
   ]
  },
  {
   "cell_type": "code",
   "execution_count": 26,
   "metadata": {
    "collapsed": false,
    "deletable": true,
    "editable": true
   },
   "outputs": [
    {
     "data": {
      "text/plain": [
       "['Mohammad Hafeez', 5]"
      ]
     },
     "execution_count": 26,
     "metadata": {},
     "output_type": "execute_result"
    }
   ],
   "source": [
    "min_score_batsman_match_inTeam(1, 'Kolkata Knight Riders')"
   ]
  },
  {
   "cell_type": "markdown",
   "metadata": {
    "deletable": true,
    "editable": true
   },
   "source": [
    "#### Number of Balls played by Batsman B1 in match Y"
   ]
  },
  {
   "cell_type": "code",
   "execution_count": 27,
   "metadata": {
    "collapsed": true,
    "deletable": true,
    "editable": true
   },
   "outputs": [],
   "source": [
    "def balls_faced_batsman_match(batsman, match_id):\n",
    "    x = deliveries[(deliveries['batsman'] == batsman) & (deliveries['match_id'] == match_id) & (deliveries['wide_runs'] == 0)]\n",
    "    return x.shape[0]"
   ]
  },
  {
   "cell_type": "code",
   "execution_count": 28,
   "metadata": {
    "collapsed": false,
    "deletable": true,
    "editable": true
   },
   "outputs": [
    {
     "data": {
      "text/plain": [
       "12"
      ]
     },
     "execution_count": 28,
     "metadata": {},
     "output_type": "execute_result"
    }
   ],
   "source": [
    "balls_faced_batsman_match('SC Ganguly', 1)"
   ]
  },
  {
   "cell_type": "markdown",
   "metadata": {
    "deletable": true,
    "editable": true
   },
   "source": [
    "#### Strike Rate of Batsman B1 in Match X"
   ]
  },
  {
   "cell_type": "code",
   "execution_count": 29,
   "metadata": {
    "collapsed": true,
    "deletable": true,
    "editable": true
   },
   "outputs": [],
   "source": [
    "def strikeRate_batsman_match(batsman, match_id):\n",
    "    runs = runs_batsman_match(batsman, match_id)\n",
    "    balls = balls_faced_batsman_match(batsman, match_id)\n",
    "    \n",
    "    strike_rate = runs/balls * 100\n",
    "    return strike_rate"
   ]
  },
  {
   "cell_type": "code",
   "execution_count": 30,
   "metadata": {
    "collapsed": false,
    "deletable": true,
    "editable": true
   },
   "outputs": [
    {
     "data": {
      "text/plain": [
       "216.43835616438358"
      ]
     },
     "execution_count": 30,
     "metadata": {},
     "output_type": "execute_result"
    }
   ],
   "source": [
    "strikeRate_batsman_match('BB McCullum', 1)"
   ]
  },
  {
   "cell_type": "markdown",
   "metadata": {
    "deletable": true,
    "editable": true
   },
   "source": [
    "#### Total Number of Dot Balls played by Batsman B1 in Match X"
   ]
  },
  {
   "cell_type": "code",
   "execution_count": 31,
   "metadata": {
    "collapsed": true,
    "deletable": true,
    "editable": true
   },
   "outputs": [],
   "source": [
    "def dot_balls_batsman_match(batsman, match_id):\n",
    "    x = deliveries[(deliveries['batsman'] == batsman) & (deliveries['match_id'] == match_id) & (deliveries['total_runs'] == 0)]\n",
    "    dot_balls = x.shape[0]\n",
    "    return dot_balls"
   ]
  },
  {
   "cell_type": "code",
   "execution_count": 32,
   "metadata": {
    "collapsed": false,
    "deletable": true,
    "editable": true
   },
   "outputs": [
    {
     "data": {
      "text/plain": [
       "6"
      ]
     },
     "execution_count": 32,
     "metadata": {},
     "output_type": "execute_result"
    }
   ],
   "source": [
    "dot_balls_batsman_match('SC Ganguly', 1)"
   ]
  },
  {
   "cell_type": "markdown",
   "metadata": {
    "deletable": true,
    "editable": true
   },
   "source": [
    "#### Total Number of 4's played by Batsman B1 in Match X"
   ]
  },
  {
   "cell_type": "code",
   "execution_count": 33,
   "metadata": {
    "collapsed": true,
    "deletable": true,
    "editable": true
   },
   "outputs": [],
   "source": [
    "def b_4_batsman_match(batsman, match_id):\n",
    "    x = deliveries[(deliveries['batsman'] == batsman) & (deliveries['match_id'] == match_id) & (deliveries['total_runs'] == 4)]\n",
    "    b_4 = x.shape[0]\n",
    "    return b_4"
   ]
  },
  {
   "cell_type": "code",
   "execution_count": 34,
   "metadata": {
    "collapsed": false,
    "deletable": true,
    "editable": true
   },
   "outputs": [
    {
     "data": {
      "text/plain": [
       "2"
      ]
     },
     "execution_count": 34,
     "metadata": {},
     "output_type": "execute_result"
    }
   ],
   "source": [
    "b_4_batsman_match('SC Ganguly', 1)"
   ]
  },
  {
   "cell_type": "markdown",
   "metadata": {
    "deletable": true,
    "editable": true
   },
   "source": [
    "#### Total Number of 6's played by Batsman B1 in Match X"
   ]
  },
  {
   "cell_type": "code",
   "execution_count": 35,
   "metadata": {
    "collapsed": true,
    "deletable": true,
    "editable": true
   },
   "outputs": [],
   "source": [
    "def b_6_batsman_match(batsman, match_id):\n",
    "    x = deliveries[(deliveries['batsman'] == batsman) & (deliveries['match_id'] == match_id) & (deliveries['total_runs'] == 6)]\n",
    "    b_6 = x.shape[0]\n",
    "    return b_6"
   ]
  },
  {
   "cell_type": "code",
   "execution_count": 36,
   "metadata": {
    "collapsed": false,
    "deletable": true,
    "editable": true
   },
   "outputs": [
    {
     "data": {
      "text/plain": [
       "0"
      ]
     },
     "execution_count": 36,
     "metadata": {},
     "output_type": "execute_result"
    }
   ],
   "source": [
    "b_6_batsman_match('SC Ganguly', 1)"
   ]
  },
  {
   "cell_type": "markdown",
   "metadata": {
    "deletable": true,
    "editable": true
   },
   "source": [
    "#### i^th Highest Scorer"
   ]
  },
  {
   "cell_type": "code",
   "execution_count": 37,
   "metadata": {
    "collapsed": true,
    "deletable": true,
    "editable": true
   },
   "outputs": [],
   "source": [
    "def highest_scorer(i):\n",
    "    #player_runs = deliveries.groupby('batsman')['batsman_runs'].sum().sort_values(ascending =False)\n",
    "    player_name = deliveries.groupby('batsman')['batsman_runs'].sum().sort_values(ascending =False).iloc[i:i+1]\n",
    "    return  player_name"
   ]
  },
  {
   "cell_type": "code",
   "execution_count": 38,
   "metadata": {
    "collapsed": false,
    "deletable": true,
    "editable": true
   },
   "outputs": [
    {
     "data": {
      "text/plain": [
       "batsman\n",
       "ST Jayasuriya    514\n",
       "Name: batsman_runs, dtype: int64"
      ]
     },
     "execution_count": 38,
     "metadata": {},
     "output_type": "execute_result"
    }
   ],
   "source": [
    "highest_scorer(2)"
   ]
  },
  {
   "cell_type": "markdown",
   "metadata": {
    "deletable": true,
    "editable": true
   },
   "source": [
    "#### Total Number of fours in Match X by team Y"
   ]
  },
  {
   "cell_type": "code",
   "execution_count": 39,
   "metadata": {
    "collapsed": true,
    "deletable": true,
    "editable": true
   },
   "outputs": [],
   "source": [
    "def team_fours(match_id, batting_team):\n",
    "    team_fours = deliveries[deliveries.batsman_runs == 4]\n",
    "    team_fours_count = team_fours.groupby(['match_id','batting_team']).count()['inning']\n",
    "    return team_fours_count[match_id][batting_team]"
   ]
  },
  {
   "cell_type": "code",
   "execution_count": 40,
   "metadata": {
    "collapsed": false,
    "deletable": true,
    "editable": true
   },
   "outputs": [
    {
     "data": {
      "text/plain": [
       "15"
      ]
     },
     "execution_count": 40,
     "metadata": {},
     "output_type": "execute_result"
    }
   ],
   "source": [
    "team_fours(1,'Kolkata Knight Riders')"
   ]
  },
  {
   "cell_type": "markdown",
   "metadata": {
    "deletable": true,
    "editable": true
   },
   "source": [
    "#### Total Number of sixes in Match X by team Y"
   ]
  },
  {
   "cell_type": "code",
   "execution_count": 41,
   "metadata": {
    "collapsed": true,
    "deletable": true,
    "editable": true
   },
   "outputs": [],
   "source": [
    "def team_sixes(match_id, batting_team):\n",
    "    team_sixes = deliveries[deliveries.batsman_runs == 6]\n",
    "    team_sixes_count = team_sixes.groupby(['match_id','batting_team']).count()['inning']\n",
    "    return team_sixes_count[match_id][batting_team]"
   ]
  },
  {
   "cell_type": "code",
   "execution_count": 42,
   "metadata": {
    "collapsed": false,
    "deletable": true,
    "editable": true
   },
   "outputs": [
    {
     "data": {
      "text/plain": [
       "14"
      ]
     },
     "execution_count": 42,
     "metadata": {},
     "output_type": "execute_result"
    }
   ],
   "source": [
    "team_sixes(1,'Kolkata Knight Riders')"
   ]
  },
  {
   "cell_type": "markdown",
   "metadata": {
    "deletable": true,
    "editable": true
   },
   "source": [
    "## RUNS - ALL MATCH STATS"
   ]
  },
  {
   "cell_type": "markdown",
   "metadata": {
    "deletable": true,
    "editable": true
   },
   "source": [
    "#### Total Runs scored in Entire IPL by Batsman B1"
   ]
  },
  {
   "cell_type": "code",
   "execution_count": 43,
   "metadata": {
    "collapsed": true,
    "deletable": true,
    "editable": true
   },
   "outputs": [],
   "source": [
    "def total_runs_batsman_IPL(batsman):\n",
    "    x = deliveries.groupby(['batsman'])['batsman_runs'].sum()\n",
    "    runs_batsman = x[batsman]\n",
    "    return runs_batsman"
   ]
  },
  {
   "cell_type": "code",
   "execution_count": 44,
   "metadata": {
    "collapsed": false,
    "deletable": true,
    "editable": true
   },
   "outputs": [
    {
     "data": {
      "text/plain": [
       "188"
      ]
     },
     "execution_count": 44,
     "metadata": {},
     "output_type": "execute_result"
    }
   ],
   "source": [
    "total_runs_batsman_IPL('BB McCullum')"
   ]
  },
  {
   "cell_type": "markdown",
   "metadata": {
    "deletable": true,
    "editable": true
   },
   "source": [
    "#### Total Runs scored in Entire IPL season 01 by team X"
   ]
  },
  {
   "cell_type": "code",
   "execution_count": 45,
   "metadata": {
    "collapsed": true,
    "deletable": true,
    "editable": true
   },
   "outputs": [],
   "source": [
    "def total_runs_team_IPL(team):\n",
    "    x = deliveries.groupby(['batting_team'])['total_runs'].sum()\n",
    "    total_runs_IPL = x[team]\n",
    "    return total_runs_IPL"
   ]
  },
  {
   "cell_type": "code",
   "execution_count": 46,
   "metadata": {
    "collapsed": false,
    "deletable": true,
    "editable": true
   },
   "outputs": [
    {
     "data": {
      "text/plain": [
       "2520"
      ]
     },
     "execution_count": 46,
     "metadata": {},
     "output_type": "execute_result"
    }
   ],
   "source": [
    "total_runs_team_IPL('Chennai Super Kings')"
   ]
  },
  {
   "cell_type": "markdown",
   "metadata": {
    "deletable": true,
    "editable": true
   },
   "source": [
    "#### Orange CAP"
   ]
  },
  {
   "cell_type": "code",
   "execution_count": 47,
   "metadata": {
    "collapsed": true,
    "deletable": true,
    "editable": true
   },
   "outputs": [],
   "source": [
    "def orange_cap():\n",
    "    x = deliveries.groupby(['batsman'])['batsman_runs'].sum()\n",
    "    max_scorer = [x.idxmax(), x.max()]\n",
    "    return max_scorer"
   ]
  },
  {
   "cell_type": "code",
   "execution_count": 48,
   "metadata": {
    "collapsed": false,
    "deletable": true,
    "editable": true
   },
   "outputs": [
    {
     "name": "stdout",
     "output_type": "stream",
     "text": [
      "SE Marsh --> 616\n"
     ]
    }
   ],
   "source": [
    "orange_cap_name = orange_cap()[0]\n",
    "orange_cap_total_runs = orange_cap()[1]\n",
    "\n",
    "print(orange_cap_name, \"-->\", orange_cap_total_runs)"
   ]
  },
  {
   "cell_type": "markdown",
   "metadata": {
    "deletable": true,
    "editable": true
   },
   "source": [
    "#### Highest Runs scored in an innings by a Batsman"
   ]
  },
  {
   "cell_type": "code",
   "execution_count": 49,
   "metadata": {
    "collapsed": true,
    "deletable": true,
    "editable": true
   },
   "outputs": [],
   "source": [
    "def highest_runs_batsman_innings():\n",
    "    x = deliveries.groupby(['match_id', 'batsman'])['batsman_runs'].sum().sort_values(ascending=False)\n",
    "    batsman_and_match = [ x.idxmax(), x.max()]\n",
    "    \n",
    "    return batsman_and_match"
   ]
  },
  {
   "cell_type": "code",
   "execution_count": 50,
   "metadata": {
    "collapsed": false,
    "deletable": true,
    "editable": true,
    "scrolled": true
   },
   "outputs": [
    {
     "name": "stdout",
     "output_type": "stream",
     "text": [
      "BB McCullum  IN MATCH =  1  ---> 158\n"
     ]
    }
   ],
   "source": [
    "highest_runs_batsman_innings_NAME = highest_runs_batsman_innings()[0][1]\n",
    "highest_runs_batsman_innings_MATCH = highest_runs_batsman_innings()[0][0]\n",
    "highest_runs_batsman_innings_RUNS = highest_runs_batsman_innings()[1]\n",
    "\n",
    "print(highest_runs_batsman_innings_NAME, \" IN MATCH = \", highest_runs_batsman_innings_MATCH, \" --->\", highest_runs_batsman_innings_RUNS)"
   ]
  },
  {
   "cell_type": "markdown",
   "metadata": {
    "deletable": true,
    "editable": true
   },
   "source": [
    "#### Highest Strike Rate of Batsman Overall"
   ]
  },
  {
   "cell_type": "code",
   "execution_count": 51,
   "metadata": {
    "collapsed": true,
    "deletable": true,
    "editable": true
   },
   "outputs": [],
   "source": [
    "def total_runs_scored_IPL():\n",
    "    runs_count = deliveries.groupby('batsman')['batsman_runs'].sum()\n",
    "    return runs_count\n",
    "\n",
    "def total_ball_faced_IPL():\n",
    "    balls = deliveries[(deliveries.wide_runs == 0)].groupby('batsman')['inning']\n",
    "    balls_count = balls.count()\n",
    "    return balls_count\n",
    "\n",
    "def total_strike_rate_IPL(i):\n",
    "    strike_rate = (total_runs_scored_IPL()/total_ball_faced_IPL())*100\n",
    "    return strike_rate.sort_values(ascending = False).iloc[i:i+1]"
   ]
  },
  {
   "cell_type": "code",
   "execution_count": 52,
   "metadata": {
    "collapsed": false,
    "deletable": true,
    "editable": true
   },
   "outputs": [
    {
     "data": {
      "text/plain": [
       "batsman\n",
       "Umar Gul    205.263158\n",
       "dtype: float64"
      ]
     },
     "execution_count": 52,
     "metadata": {},
     "output_type": "execute_result"
    }
   ],
   "source": [
    "total_strike_rate_IPL(0)"
   ]
  },
  {
   "cell_type": "markdown",
   "metadata": {
    "deletable": true,
    "editable": true
   },
   "source": [
    "#### Most ball played by a player in IPL"
   ]
  },
  {
   "cell_type": "code",
   "execution_count": 53,
   "metadata": {
    "collapsed": false,
    "deletable": true,
    "editable": true
   },
   "outputs": [
    {
     "data": {
      "text/plain": [
       "batsman\n",
       "SE Marsh    441\n",
       "Name: inning, dtype: int64"
      ]
     },
     "execution_count": 53,
     "metadata": {},
     "output_type": "execute_result"
    }
   ],
   "source": [
    "total_ball_faced_IPL().sort_values(ascending = False).iloc[0:1]"
   ]
  },
  {
   "cell_type": "markdown",
   "metadata": {
    "deletable": true,
    "editable": true
   },
   "source": [
    "#### Total 4's by player X in IPL"
   ]
  },
  {
   "cell_type": "code",
   "execution_count": 54,
   "metadata": {
    "collapsed": true,
    "deletable": true,
    "editable": true
   },
   "outputs": [],
   "source": [
    "def overall_fours_count(batsman):\n",
    "    fours = deliveries[deliveries.batsman_runs == 4]\n",
    "    fours_count = fours.groupby('batsman').count()['inning']\n",
    "    return fours_count[batsman]"
   ]
  },
  {
   "cell_type": "code",
   "execution_count": 55,
   "metadata": {
    "collapsed": false,
    "deletable": true,
    "editable": true
   },
   "outputs": [
    {
     "data": {
      "text/plain": [
       "13"
      ]
     },
     "execution_count": 55,
     "metadata": {},
     "output_type": "execute_result"
    }
   ],
   "source": [
    "overall_fours_count('BB McCullum')"
   ]
  },
  {
   "cell_type": "markdown",
   "metadata": {
    "deletable": true,
    "editable": true
   },
   "source": [
    "#### Total 6's by player X in IPL"
   ]
  },
  {
   "cell_type": "code",
   "execution_count": 56,
   "metadata": {
    "collapsed": true,
    "deletable": true,
    "editable": true
   },
   "outputs": [],
   "source": [
    "def overall_sixes_count(batsman):\n",
    "    sixes = deliveries[deliveries.batsman_runs == 6]\n",
    "    sixes_count = sixes.groupby('batsman').count()['inning']\n",
    "    return sixes_count[batsman]"
   ]
  },
  {
   "cell_type": "code",
   "execution_count": 57,
   "metadata": {
    "collapsed": false,
    "deletable": true,
    "editable": true
   },
   "outputs": [
    {
     "data": {
      "text/plain": [
       "15"
      ]
     },
     "execution_count": 57,
     "metadata": {},
     "output_type": "execute_result"
    }
   ],
   "source": [
    "overall_sixes_count('BB McCullum')"
   ]
  },
  {
   "cell_type": "markdown",
   "metadata": {
    "deletable": true,
    "editable": true
   },
   "source": [
    "#### Maximum 4's by a batsman in IPL"
   ]
  },
  {
   "cell_type": "code",
   "execution_count": 58,
   "metadata": {
    "collapsed": true,
    "deletable": true,
    "editable": true
   },
   "outputs": [],
   "source": [
    "def most_fours_count(i):\n",
    "    fours = deliveries[deliveries.batsman_runs == 4]\n",
    "    fours_count = fours.groupby('batsman').count()['inning']\n",
    "    return fours_count.sort_values(ascending = False).iloc[i:i+1]"
   ]
  },
  {
   "cell_type": "code",
   "execution_count": 59,
   "metadata": {
    "collapsed": false,
    "deletable": true,
    "editable": true
   },
   "outputs": [
    {
     "name": "stdout",
     "output_type": "stream",
     "text": [
      "G Gambhir 68\n"
     ]
    }
   ],
   "source": [
    "for index_val, series_val in most_fours_count(0).iteritems():\n",
    "        print(index_val, series_val)"
   ]
  },
  {
   "cell_type": "markdown",
   "metadata": {
    "deletable": true,
    "editable": true
   },
   "source": [
    "#### Maximum 6's by a batsman in IPL"
   ]
  },
  {
   "cell_type": "code",
   "execution_count": 60,
   "metadata": {
    "collapsed": true,
    "deletable": true,
    "editable": true
   },
   "outputs": [],
   "source": [
    "def most_sixes_count():\n",
    "    sixes = deliveries[deliveries.batsman_runs == 6]\n",
    "    sixes_count = sixes.groupby('batsman').count()['inning'].sort_values(ascending = False).iloc[0:1]\n",
    "    return sixes_count"
   ]
  },
  {
   "cell_type": "code",
   "execution_count": 61,
   "metadata": {
    "collapsed": false,
    "deletable": true,
    "editable": true
   },
   "outputs": [
    {
     "name": "stdout",
     "output_type": "stream",
     "text": [
      "ST Jayasuriya 31\n"
     ]
    }
   ],
   "source": [
    "for index_val, series_val in most_sixes_count().iteritems():\n",
    "        print(index_val, series_val)"
   ]
  },
  {
   "cell_type": "code",
   "execution_count": null,
   "metadata": {
    "collapsed": true,
    "deletable": true,
    "editable": true
   },
   "outputs": [],
   "source": []
  },
  {
   "cell_type": "markdown",
   "metadata": {
    "deletable": true,
    "editable": true
   },
   "source": [
    "### Bowler Stats"
   ]
  },
  {
   "cell_type": "markdown",
   "metadata": {
    "deletable": true,
    "editable": true
   },
   "source": [
    "#### Wickets taken by a bowler X in match Y"
   ]
  },
  {
   "cell_type": "code",
   "execution_count": 62,
   "metadata": {
    "collapsed": true,
    "deletable": true,
    "editable": true
   },
   "outputs": [],
   "source": [
    "def wickets_by_bowler(bowler, match_id):\n",
    "    total_wickets = deliveries[(deliveries['match_id'] == match_id) & (deliveries['bowler'] == bowler)].dismissal_kind.count()\n",
    "    run_outs = deliveries[(deliveries['match_id'] == match_id) & (deliveries['bowler'] == bowler) & (deliveries['dismissal_kind']== 'run out')].dismissal_kind.count()\n",
    "    return total_wickets-run_outs"
   ]
  },
  {
   "cell_type": "code",
   "execution_count": 63,
   "metadata": {
    "collapsed": false,
    "deletable": true,
    "editable": true
   },
   "outputs": [
    {
     "data": {
      "text/plain": [
       "2"
      ]
     },
     "execution_count": 63,
     "metadata": {},
     "output_type": "execute_result"
    }
   ],
   "source": [
    "wickets_by_bowler('SC Ganguly', 1)"
   ]
  },
  {
   "cell_type": "markdown",
   "metadata": {
    "deletable": true,
    "editable": true
   },
   "source": [
    "#### Runs conceded by a bowler X in match Y"
   ]
  },
  {
   "cell_type": "code",
   "execution_count": 64,
   "metadata": {
    "collapsed": true,
    "deletable": true,
    "editable": true
   },
   "outputs": [],
   "source": [
    "def runs_conceded_by_bowler(bowler, match_id):\n",
    "    return (deliveries.groupby(['match_id','bowler']).total_runs.sum()-deliveries.groupby(['match_id','bowler']).bye_runs.sum()-deliveries.groupby(['match_id','bowler']).legbye_runs.sum())[match_id][bowler]"
   ]
  },
  {
   "cell_type": "code",
   "execution_count": 65,
   "metadata": {
    "collapsed": false,
    "deletable": true,
    "editable": true
   },
   "outputs": [
    {
     "data": {
      "text/plain": [
       "21"
      ]
     },
     "execution_count": 65,
     "metadata": {},
     "output_type": "execute_result"
    }
   ],
   "source": [
    "runs_conceded_by_bowler('SC Ganguly', 1)"
   ]
  },
  {
   "cell_type": "markdown",
   "metadata": {
    "deletable": true,
    "editable": true
   },
   "source": [
    "#### Number of balls bowled by a bowler X including extras in Match Y"
   ]
  },
  {
   "cell_type": "code",
   "execution_count": 66,
   "metadata": {
    "collapsed": true,
    "deletable": true,
    "editable": true
   },
   "outputs": [],
   "source": [
    "def balls_by_bowler(bowler, match_id):\n",
    "    return (deliveries.groupby(['match_id','bowler']).ball.agg('count'))[match_id][bowler]"
   ]
  },
  {
   "cell_type": "code",
   "execution_count": 67,
   "metadata": {
    "collapsed": false,
    "deletable": true,
    "editable": true
   },
   "outputs": [
    {
     "data": {
      "text/plain": [
       "25"
      ]
     },
     "execution_count": 67,
     "metadata": {},
     "output_type": "execute_result"
    }
   ],
   "source": [
    "balls_by_bowler('SC Ganguly',1)"
   ]
  },
  {
   "cell_type": "markdown",
   "metadata": {
    "deletable": true,
    "editable": true
   },
   "source": [
    "#### Number of overs bowled by bowler X in match Y"
   ]
  },
  {
   "cell_type": "code",
   "execution_count": 68,
   "metadata": {
    "collapsed": true,
    "deletable": true,
    "editable": true
   },
   "outputs": [],
   "source": [
    "def overs_by_bowler(bowler, match_id):\n",
    "    balls = (deliveries[(deliveries['match_id']==match_id)& (deliveries['bowler']== bowler) & (deliveries['wide_runs'] == 0) & (deliveries['is_super_over'] == 0) & (deliveries['noball_runs']==0)]).ball.count()\n",
    "    overs = float(int(balls/6) + float(balls%6)/10)\n",
    "    return (overs)"
   ]
  },
  {
   "cell_type": "code",
   "execution_count": 69,
   "metadata": {
    "collapsed": false,
    "deletable": true,
    "editable": true
   },
   "outputs": [
    {
     "data": {
      "text/plain": [
       "1.1"
      ]
     },
     "execution_count": 69,
     "metadata": {},
     "output_type": "execute_result"
    }
   ],
   "source": [
    "overs_by_bowler('LR Shukla', 1)"
   ]
  },
  {
   "cell_type": "markdown",
   "metadata": {
    "deletable": true,
    "editable": true
   },
   "source": [
    "#### Number of extra runs conceded by bowler X in match Y (wides, noballs)"
   ]
  },
  {
   "cell_type": "code",
   "execution_count": 70,
   "metadata": {
    "collapsed": true,
    "deletable": true,
    "editable": true
   },
   "outputs": [],
   "source": [
    "def extras_by_bowler(bowler, match_id):\n",
    "        wide = (deliveries[(deliveries['match_id']==match_id)& (deliveries['bowler']== bowler) & (deliveries['is_super_over'] == 0)]).wide_runs.sum()\n",
    "        noball = (deliveries[(deliveries['match_id']==match_id)& (deliveries['bowler']== bowler) & (deliveries['is_super_over'] == 0)]).noball_runs.sum()\n",
    "        byes = (deliveries[(deliveries['match_id']==match_id)& (deliveries['bowler']== bowler) & (deliveries['is_super_over'] == 0)]).bye_runs.sum()\n",
    "        leg_byes = (deliveries[(deliveries['match_id']==match_id)& (deliveries['bowler']== bowler) & (deliveries['is_super_over'] == 0)]).legbye_runs.sum()\n",
    "    \n",
    "        return wide, noball"
   ]
  },
  {
   "cell_type": "code",
   "execution_count": 71,
   "metadata": {
    "collapsed": false,
    "deletable": true,
    "editable": true
   },
   "outputs": [
    {
     "name": "stdout",
     "output_type": "stream",
     "text": [
      "Wides =  1   Noballs =  0\n"
     ]
    }
   ],
   "source": [
    "wide, noball = extras_by_bowler('SC Ganguly', 1)\n",
    "print(\"Wides = \",wide,\" \",\"Noballs = \", noball)"
   ]
  },
  {
   "cell_type": "markdown",
   "metadata": {
    "deletable": true,
    "editable": true
   },
   "source": [
    "#### Economy rate of bowler X in match Y"
   ]
  },
  {
   "cell_type": "code",
   "execution_count": 72,
   "metadata": {
    "collapsed": true,
    "deletable": true,
    "editable": true
   },
   "outputs": [],
   "source": [
    "def economy_rate(bowler, match_id):\n",
    "    import math\n",
    "    runs = runs_conceded_by_bowler(bowler, match_id)\n",
    "    overs = overs_by_bowler(bowler, match_id)\n",
    "    frac, whole = math.modf(overs)\n",
    "    total = whole + frac*10/6\n",
    "    return runs/total"
   ]
  },
  {
   "cell_type": "code",
   "execution_count": 73,
   "metadata": {
    "collapsed": false,
    "deletable": true,
    "editable": true
   },
   "outputs": [
    {
     "data": {
      "text/plain": [
       "5.25"
      ]
     },
     "execution_count": 73,
     "metadata": {},
     "output_type": "execute_result"
    }
   ],
   "source": [
    "economy_rate('SC Ganguly', 1)"
   ]
  },
  {
   "cell_type": "markdown",
   "metadata": {
    "deletable": true,
    "editable": true
   },
   "source": [
    "#### Bowler taking highest number of wickets in a match X according to rank Y"
   ]
  },
  {
   "cell_type": "code",
   "execution_count": 74,
   "metadata": {
    "collapsed": true,
    "deletable": true,
    "editable": true
   },
   "outputs": [],
   "source": [
    "def highest_wickets_by_bowler(match_id, rank = 1):\n",
    "    bowlers = deliveries[deliveries['match_id'] == match_id].bowler.unique()\n",
    "    wick_by_bowler = {}\n",
    "    for bowler in bowlers:\n",
    "        wick_by_bowler[bowler] = (wickets_by_bowler(bowler, match_id))\n",
    "    data = sorted(wick_by_bowler.items(), key=lambda x:x[1], reverse=True)\n",
    "    return data[rank-1]\n",
    "    "
   ]
  },
  {
   "cell_type": "code",
   "execution_count": 75,
   "metadata": {
    "collapsed": false,
    "deletable": true,
    "editable": true
   },
   "outputs": [
    {
     "data": {
      "text/plain": [
       "('YK Pathan', 3)"
      ]
     },
     "execution_count": 75,
     "metadata": {},
     "output_type": "execute_result"
    }
   ],
   "source": [
    "highest_wickets_by_bowler(58,1)"
   ]
  },
  {
   "cell_type": "markdown",
   "metadata": {
    "deletable": true,
    "editable": true
   },
   "source": [
    "#### Bowler having highest economy rate in a match X according to rank Y"
   ]
  },
  {
   "cell_type": "code",
   "execution_count": 76,
   "metadata": {
    "collapsed": true,
    "deletable": true,
    "editable": true
   },
   "outputs": [],
   "source": [
    "def highest_economy_rate(match_id, rank = 1):\n",
    "    bowlers = deliveries[deliveries['match_id'] == match_id].bowler.unique()\n",
    "    eco_by_bowler = {}\n",
    "    for bowler in bowlers:\n",
    "        eco_by_bowler[bowler] = round((economy_rate(bowler, match_id)),2)\n",
    "    data = sorted(eco_by_bowler.items(), key=lambda x:x[1])\n",
    "    return data[rank-1]\n",
    "    "
   ]
  },
  {
   "cell_type": "code",
   "execution_count": 77,
   "metadata": {
    "collapsed": false,
    "deletable": true,
    "editable": true
   },
   "outputs": [
    {
     "data": {
      "text/plain": [
       "('IK Pathan', 4.5)"
      ]
     },
     "execution_count": 77,
     "metadata": {},
     "output_type": "execute_result"
    }
   ],
   "source": [
    "highest_economy_rate(22)"
   ]
  },
  {
   "cell_type": "markdown",
   "metadata": {
    "deletable": true,
    "editable": true
   },
   "source": [
    "#### Highest Number of wickets by bowler"
   ]
  },
  {
   "cell_type": "code",
   "execution_count": 78,
   "metadata": {
    "collapsed": true,
    "deletable": true,
    "editable": true
   },
   "outputs": [],
   "source": [
    "def overall_wickets_by_bowler(bowler=None,rank =1):\n",
    "    bowler_wicket =[]\n",
    "    if (bowler == None): \n",
    "        bowlers = deliveries.bowler.unique()\n",
    "        for bowler in bowlers:\n",
    "            total_wickets = deliveries[deliveries['bowler'] == bowler].dismissal_kind.count()\n",
    "            run_outs = deliveries[(deliveries['bowler'] == bowler) & (deliveries['dismissal_kind']== 'run out')].dismissal_kind.count()\n",
    "            bowler_wicket.append((bowler, (total_wickets - run_outs)))\n",
    "    else:\n",
    "        total_wickets = deliveries[deliveries['bowler'] == bowler].dismissal_kind.count()\n",
    "        run_outs = deliveries[(deliveries['bowler'] == bowler) & (deliveries['dismissal_kind']== 'run out')].dismissal_kind.count()\n",
    "        bowler_wicket.append((bowler, (total_wickets - run_outs)))\n",
    "    bowler_wicket = sorted(bowler_wicket, key=lambda x: x[1], reverse=True)\n",
    "    return  bowler_wicket[rank-1]"
   ]
  },
  {
   "cell_type": "code",
   "execution_count": 79,
   "metadata": {
    "collapsed": false,
    "deletable": true,
    "editable": true
   },
   "outputs": [
    {
     "data": {
      "text/plain": [
       "('Sohail Tanvir', 22)"
      ]
     },
     "execution_count": 79,
     "metadata": {},
     "output_type": "execute_result"
    }
   ],
   "source": [
    "overall_wickets_by_bowler()"
   ]
  },
  {
   "cell_type": "markdown",
   "metadata": {
    "deletable": true,
    "editable": true
   },
   "source": [
    "#### Purple Cap"
   ]
  },
  {
   "cell_type": "code",
   "execution_count": 80,
   "metadata": {
    "collapsed": false,
    "deletable": true,
    "editable": true
   },
   "outputs": [],
   "source": [
    "def purple_cap():\n",
    "    print(\"Purple Cap: \", overall_wickets_by_bowler(rank = 1))"
   ]
  },
  {
   "cell_type": "code",
   "execution_count": 81,
   "metadata": {
    "collapsed": false,
    "deletable": true,
    "editable": true
   },
   "outputs": [
    {
     "name": "stdout",
     "output_type": "stream",
     "text": [
      "Purple Cap:  ('Sohail Tanvir', 22)\n"
     ]
    }
   ],
   "source": [
    "purple_cap()"
   ]
  },
  {
   "cell_type": "code",
   "execution_count": 82,
   "metadata": {
    "collapsed": true,
    "deletable": true,
    "editable": true
   },
   "outputs": [],
   "source": [
    "import pandas as pd\n",
    "import nltk"
   ]
  },
  {
   "cell_type": "code",
   "execution_count": 202,
   "metadata": {
    "collapsed": true
   },
   "outputs": [],
   "source": [
    "def feature_extractor(sentence):\n",
    "    features = {'highest': 0\n",
    "                ,'scored': 0\n",
    "                ,'runs': 0\n",
    "                ,'scorer': 0\n",
    "                ,'score':0\n",
    "                ,'match':0\n",
    "                ,'wickets': 0\n",
    "                ,'boundary': 0\n",
    "                ,'boundaries':0\n",
    "                ,'fours':0\n",
    "                ,'4s':0\n",
    "                ,'six':0\n",
    "                ,'sixes':0\n",
    "                ,'6s':0\n",
    "                ,'hit':0\n",
    "                ,'Fours':0\n",
    "                ,'aggregate':0\n",
    "                ,'total':0\n",
    "                ,'team':0\n",
    "                ,'lead':0\n",
    "                ,'leading':0\n",
    "                ,'maximum':0\n",
    "                ,'max':0\n",
    "                ,'minimum':0\n",
    "                ,'min':0\n",
    "                ,'least':0\n",
    "                ,'less':0\n",
    "                ,'1st':0,'2nd':0,'3rd':0,'4th':0,'5th':0,'6th':0,'7th':0,'8th':0,'9th':0,'10th':0    \n",
    "                ,'dot':0\n",
    "                ,'dots':0\n",
    "                ,'faced':0 \n",
    "                ,'entire':0\n",
    "                ,'whole':0\n",
    "                ,'season':0\n",
    "                ,'balls':0\n",
    "                ,'deliveries':0\n",
    "                ,'faced':0\n",
    "                \n",
    "               }\n",
    "    \n",
    "    tokenized_sentence = nltk.word_tokenize(sentence)\n",
    "    word_counts = nltk.Counter(tokenized_sentence)\n",
    "    for word in word_counts:\n",
    "        if word in features:\n",
    "            features[word] = word_counts[word]\n",
    "    return features"
   ]
  },
  {
   "cell_type": "code",
   "execution_count": 203,
   "metadata": {
    "collapsed": true
   },
   "outputs": [],
   "source": [
    "train_sentences = [('Total runs scored by SC Ganguly in match 5?' ,'runs'),\n",
    "                    ('SC Ganguly score in match 1?','runs'),\n",
    "                    ('how many runs did Ganguly score in match 2?','runs'),\n",
    "                    (\"Sachin's score in 4th match?\", 'runs'),\n",
    "                    ('McCullum scored how much in match 3?','runs'),\n",
    "                    (\"Dravid's runs in match 2?\",'runs'),\n",
    "                    (\"Dravid's score in match 5?\",'runs'),\n",
    "                    ('How much did RCB Score in Match 1?','runs'),\n",
    "                    ('RCB Score in match 1?','runs'),\n",
    "                    ('RCB runs in match 1','runs'),\n",
    "                    ('Team score of rcb in match 4','runs'),\n",
    "                    ('total score of DDin 3rd match','runs'),\n",
    "                    ('totals runs of Deccan in 8th match','runs'),\n",
    "                    ('final score of DD in 3rd match','runs'),\n",
    "                    ('Rahul maximum score in match 3','max_runs'),\n",
    "                    (\"who was the leading run scorer in match 9\", 'max_runs'),\n",
    "                    ('highest score in match 3','max_runs'),\n",
    "                    ('maximum scorer of match 2','max_runs'),\n",
    "                    (\"who scored maximum runs in match 6\", 'max_runs'),\n",
    "                    (\"who was the top scorer in match 6\", 'max_runs'), \n",
    "                    ('minimum score in match 3', 'min_runs'),\n",
    "                    ('lowest score in match 3','min_runs'),\n",
    "                    ('minimumscorer of match 2','min_runs'),\n",
    "                    ('who scored less runs in match 3?','min_runs'),\n",
    "                    ('who was the least run scorer in match 3?','min_runs'),\n",
    "                    (\"who scored the maximum run match 3 by DD\",'max_runs'),\n",
    "                    (\"top scorer for DD in match 3\",'max_runs'),\n",
    "                    (\"top score in DD match 4?\",'max_runs'),\n",
    "                    (\"highest scorer for DD in match 4\",'max_runs'),\n",
    "                    (\"who scored the minimum run match 3 by DD\",'min_runs'),\n",
    "                    (\"least scorer for DD in match 3\",'min_runs'),\n",
    "                    (\"lowest score in DD match 4?\",'min_runs'),\n",
    "                    (\"low scorer for DD in match 4\",'min_runs'),\n",
    "                    (\"total runs scored by sachin?\",'total_runs'),\n",
    "                    (\"aggregate runs by Abhay?\",'total_runs'),\n",
    "                    (\"how many runs has sachin made in ipl1?\",'total_runs'),\n",
    "                    (\"Total runs made by sachin?\",'total_runs'),\n",
    "                    (\"What is the total runs made by RCB?\",'total_runs'),\n",
    "                    (\"what is the runs made by RCB in ipl 9?\",'total_runs'),\n",
    "                    (\"What is the sum total runs made by RCB\",'total_runs'),\n",
    "                    (\"how many fours did Kohli score in match 2?\",'fours'),\n",
    "                    (\"4s hit by Sachin in match 1?\",'fours'),\n",
    "                    (\"Fours hit by Abhay in match 5?\",'fours'),\n",
    "                    (\"how many sixes did Kohli score in match 2?\",'sixes'),\n",
    "                    (\"6s hit by Sachin in match 1?\",'sixes'),\n",
    "                    (\"Sixes hit by Abhay in match 5?\",'sixes'),\n",
    "                    (\"how many sixes did Kohli hit in match 2?\",'sixes'),\n",
    "                    (\"who was 3rd highest scorer in match 3?\",'ith_highest_scorer'),\n",
    "                    (\"who was 3rd top scorer in match 4?\",'ith_highest_scorer'),\n",
    "                    (\"who was 2nd maximum run scorer in match 6?\",'ith_highest_scorer'), \n",
    "                    (\"rahul faced how many dot balls in match 1\",'dot_balls'),\n",
    "                    (\"rahul faced how many dots in match 1\",'dot_balls'),\n",
    "                    (\"how many boundaries are scored by rcb in match 6\",'fours'),\n",
    "                    (\"how many 4s are scored by rcb in match 3\",'fours'),\n",
    "                    (\"how many fours are scored by rcb in match 6\",'fours'),\n",
    "                    (\"how many boundaries are hit by rcb in match 6\",'fours'),\n",
    "                    (\"how many 4s are hit by rcb in match 6\",'fours'),\n",
    "                    (\"how many fours are hit by rcb in match 6\",'fours'),\n",
    "                    (\"what are total boundaries of rcb in match 6\",'fours'),\n",
    "                    (\"what are total fours of rcb in match 6\",'fours'),\n",
    "                    (\"what are total 4s of rcb in match 5\",'fours'),   \n",
    "                    (\"how many 6s are scored by rcb in match 6\",'sixes'),\n",
    "                    (\"how many sixes are scored by rcb in match 6\",'sixes'),\n",
    "                    (\"how many 6s are hit by rcb in match 6\",'sixes'),\n",
    "                    (\"how many sixes are hit by rcb in match 6\",'sixes'),\n",
    "                    (\"what are total sixes of rcb in match 6\",'sixes'),\n",
    "                    (\"what are total 6s of rcb in match 5\",'sixes'),\n",
    "                    (\"how many fours are hit by kohli in this season?\",'fours'),\n",
    "                    (\"how many 4s are hit by kohli in this season?\",'fours'),\n",
    "                    (\"how many boundaries are hit by kohli in this season?\",'fours'),\n",
    "                    (\"how many fours are scored by kohli in this season?\",'fours'),\n",
    "                    (\"how many 4s are scored by kohli in this season?\",'fours'),\n",
    "                    (\"how many boundaries are hit by kohli in this season?\",'fours'),\n",
    "                    (\"how many boundaries are hit by kohli in this entire ipl?\",'fours'),\n",
    "                    (\"how many 4s are hit by kohli in this entire ipl?\",'fours'),\n",
    "                    (\"how many fours are hit by kohli in this entire ipl?\",'fours'),\n",
    "                    (\"how many boundaries are hit by kohli in this whole ipl?\",'fours'),\n",
    "                    (\"how many 4s are hit by kohli in this whole ipl?\",'fours'),\n",
    "                    (\"how many fours are hit by kohli in this whole ipl?\",'fours'),\n",
    "                    (\"how many sixes are hit by kohli in this season?\",'sixes'),\n",
    "                    (\"how many 6s are hit by kohli in this season?\",'sixes'),\n",
    "                    (\"how many sixes are scored by kohli in this season?\",'sixes'),\n",
    "                    (\"how many 6s are scored by kohli in this season?\",'sixes'),\n",
    "                    (\"how many 6s are hit by kohli in this entire ipl?\",'sixes'),\n",
    "                    (\"how many sixes are hit by kohli in this entire ipl?\",'sixes'),\n",
    "                    (\"how many 6s are hit by kohli in this whole ipl?\",'sixes'),\n",
    "                    (\"how many sixes are hit by kohli in this whole ipl?\",'sixes'),\n",
    "                    (\"who scored most fours in entire ipl?\",'fours'),\n",
    "                    (\"who hit most fours in entire ipl?\",'fours'),\n",
    "                    (\"who scored most 4s in entire ipl?\",'fours'),\n",
    "                    (\"who hit most 4s in entire ipl?\",'fours'), \n",
    "                    (\"who scored most boundaries in entire ipl?\",'fours'),\n",
    "                    (\"who hit most boundaries in entire ipl?\",'fours'), \n",
    "                    (\"who scored most fours in whole ipl?\",'fours'),\n",
    "                    (\"who hit most fours in whole ipl?\",'fours'),\n",
    "                    (\"who scored most 4s in whole ipl?\",'fours'),\n",
    "                    (\"who hit most 4s in whole ipl?\",'fours'), \n",
    "                    (\"who scored most boundaries in whole ipl?\",'fours'),\n",
    "                    (\"who hit most boundaries in whole ipl?\",'fours'), \n",
    "                    (\"who scored most fours in this season?\",'fours'),\n",
    "                    (\"who hit most fours in this season?\",'fours'),\n",
    "                    (\"who scored most 4s in this season?\",'fours'),\n",
    "                    (\"who hit most 4s in this season?\",'fours'), \n",
    "                    (\"who scored most boundaries in this season?\",'fours'),\n",
    "                    (\"who hit most boundaries in this season?\",'fours'), \n",
    "                    (\"who scored most sixes in entire ipl?\",'sixes'),\n",
    "                    (\"who hit most sixes in entire ipl?\",'sixes'),\n",
    "                    (\"who scored most 6s in entire ipl?\",'sixes'),\n",
    "                    (\"who hit most 6s in entire ipl?\",'sixes'), \n",
    "                    (\"who scored most sixes in whole ipl?\",'sixes'),\n",
    "                    (\"who hit most sixes in whole ipl?\",'sixes'),\n",
    "                    (\"who scored most 6s in whole ipl?\",'sixes'),\n",
    "                    (\"who hit most 6s in whole ipl?\",'sixes'), \n",
    "                    (\"who scored most sixes in this season?\",'sixes'),\n",
    "                    (\"who hit most sixes in this season?\",'sixes'),\n",
    "                    (\"who scored most 6s in this season?\",'sixes'),\n",
    "                    (\"who hit most 6s in this season?\",'sixes'), \n",
    "                   \n",
    "                    (\"how many balls were faced by BB McCullum in match 3?\",'strike_rate'),\n",
    "                    (\"how many deliveries were faced by BB Mccullum in match 3?\",'strike_rate'), \n",
    "                   \n",
    "                    (\"what was the strike rate of BB McCullum in match 1?\",'strike rate'),\n",
    "                    (\"BB McCullum's strike rate in 1st match?\",'strike rate'),\n",
    " \n",
    "                    (\"Who are leading run scorers in this season?\",'runs'),\n",
    "                    (\"who are leading run scorers in this ipl?\",'runs'),\n",
    "                    (\"who are leading run scorers in this total ipl?\",'runs'), \n",
    "                    (\"who are leading run scorers in this entire ipl?\",'runs'),\n",
    "                    (\"Who are top run scorers in this season?\",'runs'),\n",
    "                    (\"who are top run scorers in this ipl?\",'runs')\n",
    "                    (\"who are top run scorers in this total ipl?\",'runs'), \n",
    "                    (\"who are top run scorers in this entire ipl?\",'runs')                    \n",
    "                    \n",
    "                  ]"
   ]
  },
  {
   "cell_type": "code",
   "execution_count": 204,
   "metadata": {
    "collapsed": true
   },
   "outputs": [],
   "source": [
    "naive_bayes_classifier = nltk.NaiveBayesClassifier.train([(feature_extractor(sentence), label) for sentence, label in train_sentences])"
   ]
  },
  {
   "cell_type": "code",
   "execution_count": 227,
   "metadata": {
    "collapsed": true
   },
   "outputs": [],
   "source": [
    "user_query = \"how many runs did Delhi Daredevils made in 4th match?\"\n",
    "feature_set_another_sentence = feature_extractor(user_query)"
   ]
  },
  {
   "cell_type": "code",
   "execution_count": 228,
   "metadata": {
    "collapsed": false
   },
   "outputs": [
    {
     "data": {
      "text/plain": [
       "'runs'"
      ]
     },
     "execution_count": 228,
     "metadata": {},
     "output_type": "execute_result"
    }
   ],
   "source": [
    "classifier = naive_bayes_classifier.classify(feature_set_another_sentence)\n",
    "classifier"
   ]
  },
  {
   "cell_type": "code",
   "execution_count": 194,
   "metadata": {
    "collapsed": true
   },
   "outputs": [],
   "source": [
    "from nltk.corpus import stopwords\n",
    "from nltk.tokenize import word_tokenize"
   ]
  },
  {
   "cell_type": "code",
   "execution_count": 195,
   "metadata": {
    "collapsed": false
   },
   "outputs": [
    {
     "data": {
      "text/plain": [
       "['many', '4s', 'scored', 'Kolkata', 'Knight', 'Riders', '4th', 'match', '?']"
      ]
     },
     "execution_count": 195,
     "metadata": {},
     "output_type": "execute_result"
    }
   ],
   "source": [
    "stop_words = set(stopwords.words(\"english\"))\n",
    "#print(stop_words)\n",
    "words = word_tokenize(user_query)\n",
    "words_filter = []\n",
    "for w in words:\n",
    "    if w not in stop_words:\n",
    "        #w = w.lower()\n",
    "        words_filter.append(w)\n",
    "words_filter      "
   ]
  },
  {
   "cell_type": "code",
   "execution_count": 196,
   "metadata": {
    "collapsed": false
   },
   "outputs": [
    {
     "data": {
      "text/plain": [
       "['many', '4s', 'scored', 'Kolkata', 'Knight', 'Riders', '4th', 'match', '?']"
      ]
     },
     "execution_count": 196,
     "metadata": {},
     "output_type": "execute_result"
    }
   ],
   "source": [
    "boundary_list = ['4s','6s','sixes','fours']\n",
    "words_lemmatize = []\n",
    "from nltk.stem import WordNetLemmatizer\n",
    "lemmatizer = WordNetLemmatizer()\n",
    "for w in words_filter:\n",
    "    if w in boundary_list:\n",
    "        words_lemmatize.append(w)\n",
    "    else:\n",
    "        s = lemmatizer.lemmatize(w)\n",
    "        words_lemmatize.append(s)\n",
    "        \n",
    "    \n",
    "words_lemmatize    "
   ]
  },
  {
   "cell_type": "code",
   "execution_count": 197,
   "metadata": {
    "collapsed": false
   },
   "outputs": [
    {
     "data": {
      "text/plain": [
       "[('many', 'JJ'),\n",
       " ('4s', 'CD'),\n",
       " ('scored', 'VBD'),\n",
       " ('Kolkata', 'NNP'),\n",
       " ('Knight', 'NNP'),\n",
       " ('Riders', 'NNP'),\n",
       " ('4th', 'CD'),\n",
       " ('match', 'NN'),\n",
       " ('?', '.')]"
      ]
     },
     "execution_count": 197,
     "metadata": {},
     "output_type": "execute_result"
    }
   ],
   "source": [
    "words_tagged = nltk.pos_tag(words_lemmatize)\n",
    "words_tagged"
   ]
  },
  {
   "cell_type": "code",
   "execution_count": 198,
   "metadata": {
    "collapsed": false
   },
   "outputs": [
    {
     "data": {
      "text/plain": [
       "array(['Kolkata Knight Riders', 'Chennai Super Kings', 'Rajasthan Royals',\n",
       "       'Mumbai Indians', 'Deccan Chargers', 'Kings XI Punjab',\n",
       "       'Royal Challengers Bangalore', 'Delhi Daredevils'], dtype=object)"
      ]
     },
     "execution_count": 198,
     "metadata": {},
     "output_type": "execute_result"
    }
   ],
   "source": [
    "list_of_teams = matches.team1.unique()\n",
    "list_of_teams"
   ]
  },
  {
   "cell_type": "code",
   "execution_count": 199,
   "metadata": {
    "collapsed": true
   },
   "outputs": [],
   "source": [
    "chunkGram = r\"\"\"Chunk:{<NNP?>*<NNP>}\"\"\"\n",
    "chunkParser = nltk.RegexpParser(chunkGram)\n",
    "chunked = chunkParser.parse(words_tagged)\n",
    "chunked.draw()"
   ]
  },
  {
   "cell_type": "code",
   "execution_count": 200,
   "metadata": {
    "collapsed": false
   },
   "outputs": [
    {
     "data": {
      "text/plain": [
       "'Kolkata Knight Riders'"
      ]
     },
     "execution_count": 200,
     "metadata": {},
     "output_type": "execute_result"
    }
   ],
   "source": [
    "for node in chunked:\n",
    "    if hasattr(node, \"label\"):\n",
    "        words = [word for word, tag in node.leaves()]\n",
    "        chunked_words = ' '.join(words)\n",
    "chunked_words\n"
   ]
  },
  {
   "cell_type": "code",
   "execution_count": 201,
   "metadata": {
    "collapsed": false
   },
   "outputs": [
    {
     "name": "stdout",
     "output_type": "stream",
     "text": [
      "4th\n"
     ]
    }
   ],
   "source": [
    "if(classifier == 'fours'):\n",
    "    s = 0 \n",
    "    for team_name in list_of_teams:\n",
    "        if(chunked_words == team_name):\n",
    "            s = 1\n",
    "            team = team_name\n",
    "    if(s == 1):\n",
    "        for j in range(len(chunked)):\n",
    "            if(chunked[j][1] == 'CD'):\n",
    "                flag = 0\n",
    "                for p in boundary_list:\n",
    "                    if(chunked[j][0] == p):\n",
    "                        flag = 1\n",
    "                if(flag == 0):\n",
    "                    match_id = chunked[j][0]  \n",
    "                    print(match_id)\n",
    "        #print(total_runs_team_match(team, int(match_id)))  \n",
    "    else:\n",
    "        person_name = chunked_words\n",
    "        for j in range(len(chunked)):\n",
    "            if(chunked[j][1] == 'CD'):\n",
    "                match_id = chunked[j][0]\n",
    "        print(runs_batsman_match(person_name, int(match_id)))        "
   ]
  },
  {
   "cell_type": "code",
   "execution_count": null,
   "metadata": {
    "collapsed": true
   },
   "outputs": [],
   "source": []
  }
 ],
 "metadata": {
  "kernelspec": {
   "display_name": "Python 3",
   "language": "python",
   "name": "python3"
  },
  "language_info": {
   "codemirror_mode": {
    "name": "ipython",
    "version": 3
   },
   "file_extension": ".py",
   "mimetype": "text/x-python",
   "name": "python",
   "nbconvert_exporter": "python",
   "pygments_lexer": "ipython3",
   "version": "3.5.2"
  }
 },
 "nbformat": 4,
 "nbformat_minor": 2
}
