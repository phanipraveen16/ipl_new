{
 "cells": [
  {
   "cell_type": "code",
   "execution_count": 1,
   "metadata": {
    "collapsed": false
   },
   "outputs": [
    {
     "data": {
      "text/html": [
       "<script>requirejs.config({paths: { 'plotly': ['https://cdn.plot.ly/plotly-latest.min']},});if(!window.Plotly) {{require(['plotly'],function(plotly) {window.Plotly=plotly;});}}</script>"
      ],
      "text/vnd.plotly.v1+html": [
       "<script>requirejs.config({paths: { 'plotly': ['https://cdn.plot.ly/plotly-latest.min']},});if(!window.Plotly) {{require(['plotly'],function(plotly) {window.Plotly=plotly;});}}</script>"
      ]
     },
     "metadata": {},
     "output_type": "display_data"
    }
   ],
   "source": [
    "#import statements\n",
    "%matplotlib inline\n",
    "import pandas as pd\n",
    "import numpy as np\n",
    "import matplotlib.pyplot as plt\n",
    "import datetime\n",
    "import plotly\n",
    "from plotly.graph_objs import *\n",
    "import plotly.offline as plot\n",
    "import plotly.graph_objs as go\n",
    "plot.offline.init_notebook_mode(connected=True)"
   ]
  },
  {
   "cell_type": "code",
   "execution_count": 57,
   "metadata": {
    "collapsed": false
   },
   "outputs": [
    {
     "name": "stdout",
     "output_type": "stream",
     "text": [
      "Index(['match_id', 'inning', 'batting_team', 'bowling_team', 'over', 'ball',\n",
      "       'batsman', 'non_striker', 'bowler', 'is_super_over', 'wide_runs',\n",
      "       'bye_runs', 'legbye_runs', 'noball_runs', 'penalty_runs',\n",
      "       'batsman_runs', 'extra_runs', 'total_runs', 'player_dismissed',\n",
      "       'dismissal_kind', 'fielder'],\n",
      "      dtype='object')\n"
     ]
    }
   ],
   "source": [
    "#Loading data into pandas\n",
    "deliveries = pd.read_table('deliveries.csv', sep=\",\")\n",
    "matches = pd.read_table('matches.csv', sep=\",\")\n",
    "deliveries\n",
    "print(deliveries.columns)"
   ]
  },
  {
   "cell_type": "code",
   "execution_count": 250,
   "metadata": {
    "collapsed": false
   },
   "outputs": [],
   "source": [
    "def runs_scored_by_batsman_in_a_match(match_id, batsman_name):\n",
    "    s = deliveries.groupby(['match_id','batsman'])['batsman_runs'].sum()\n",
    "    return s[match_id][batsman_name]\n",
    "    \n",
    "    \n",
    "\n"
   ]
  },
  {
   "cell_type": "code",
   "execution_count": 251,
   "metadata": {
    "collapsed": false
   },
   "outputs": [
    {
     "data": {
      "text/plain": [
       "158"
      ]
     },
     "execution_count": 251,
     "metadata": {},
     "output_type": "execute_result"
    }
   ],
   "source": [
    "runs_scored_by_batsman_in_a_match(1,'BB McCullum')"
   ]
  },
  {
   "cell_type": "code",
   "execution_count": 252,
   "metadata": {
    "collapsed": false,
    "deletable": true,
    "editable": true
   },
   "outputs": [],
   "source": [
    "def max_scorer_in_a_match(match_id):\n",
    "    s = deliveries.groupby(['match_id','batsman'])['batsman_runs'].sum()\n",
    "    name = str(s[match_id].idxmax())\n",
    "    max_score = str(s[match_id].max())\n",
    "    name_score = \"Maximum scorer is \" + name  +\" , he scored \" + max_score\n",
    "    return name_score"
   ]
  },
  {
   "cell_type": "code",
   "execution_count": 253,
   "metadata": {
    "collapsed": false
   },
   "outputs": [
    {
     "data": {
      "text/plain": [
       "'Maximum scorer is BB McCullum , he scored 158'"
      ]
     },
     "execution_count": 253,
     "metadata": {},
     "output_type": "execute_result"
    }
   ],
   "source": [
    "max_scorer_in_a_match(1)\n"
   ]
  },
  {
   "cell_type": "code",
   "execution_count": 254,
   "metadata": {
    "collapsed": false
   },
   "outputs": [],
   "source": [
    "def min_scorer_in_a_match(match_id):\n",
    "    s = deliveries.groupby(['match_id','batsman'])['batsman_runs'].sum()\n",
    "    name = str(s[match_id].idxmin())\n",
    "    max_score = str(s[match_id].min())\n",
    "    name_score = \"Maximum scorer is \" + name  +\" , he scored \" + max_score\n",
    "    return name_score"
   ]
  },
  {
   "cell_type": "code",
   "execution_count": 255,
   "metadata": {
    "collapsed": false
   },
   "outputs": [
    {
     "data": {
      "text/plain": [
       "'Maximum scorer is B Akhil , he scored 0'"
      ]
     },
     "execution_count": 255,
     "metadata": {},
     "output_type": "execute_result"
    }
   ],
   "source": [
    "min_scorer_in_a_match(1)"
   ]
  },
  {
   "cell_type": "code",
   "execution_count": 256,
   "metadata": {
    "collapsed": false
   },
   "outputs": [],
   "source": [
    "def balls_faced_by_batsman_in_a_match(match,batsman):\n",
    "     return(deliveries[(deliveries['match_id'] == match)&(deliveries['batsman'] == batsman)&(deliveries['wide_runs'] == 0)].shape[0])\n",
    "            \n",
    "        \n",
    "    \n",
    "    \n"
   ]
  },
  {
   "cell_type": "code",
   "execution_count": 257,
   "metadata": {
    "collapsed": false
   },
   "outputs": [
    {
     "data": {
      "text/plain": [
       "12"
      ]
     },
     "execution_count": 257,
     "metadata": {},
     "output_type": "execute_result"
    }
   ],
   "source": [
    "balls_faced_by_batsman_in_a_match(1,\"SC Ganguly\")"
   ]
  },
  {
   "cell_type": "code",
   "execution_count": 258,
   "metadata": {
    "collapsed": true
   },
   "outputs": [],
   "source": [
    "def strike_rate_in_match(match_id,batsman):\n",
    "    s = deliveries.groupby(['match_id','batsman'])['batsman_runs'].sum()\n",
    "    runs = s[match_id][batsman]\n",
    "    ball = balls_faced_by_batsman_in_a_match(match_id,batsman)\n",
    "    sr = (100*runs)/ball\n",
    "    return sr\n",
    "    "
   ]
  },
  {
   "cell_type": "code",
   "execution_count": 259,
   "metadata": {
    "collapsed": false
   },
   "outputs": [
    {
     "data": {
      "text/plain": [
       "216.43835616438355"
      ]
     },
     "execution_count": 259,
     "metadata": {},
     "output_type": "execute_result"
    }
   ],
   "source": [
    "strike_rate_in_match(1,\"BB McCullum\")"
   ]
  },
  {
   "cell_type": "code",
   "execution_count": 260,
   "metadata": {
    "collapsed": true
   },
   "outputs": [],
   "source": [
    "def total_4_in_a_match(match_id,batsman):\n",
    "    return(deliveries[(deliveries['match_id'] == match_id)&(deliveries['batsman'] == batsman)&(deliveries['total_runs'] == 4)].shape[0])\n",
    "            \n",
    "        \n",
    "    \n",
    "    \n",
    "    "
   ]
  },
  {
   "cell_type": "code",
   "execution_count": 261,
   "metadata": {
    "collapsed": false
   },
   "outputs": [
    {
     "data": {
      "text/plain": [
       "10"
      ]
     },
     "execution_count": 261,
     "metadata": {},
     "output_type": "execute_result"
    }
   ],
   "source": [
    "total_4_in_a_match(1,\"BB McCullum\")"
   ]
  },
  {
   "cell_type": "code",
   "execution_count": 262,
   "metadata": {
    "collapsed": true
   },
   "outputs": [],
   "source": [
    "def total_6_in_a_match(match_id,batsman):\n",
    "    return(deliveries[(deliveries['match_id'] == match_id)&(deliveries['batsman'] == batsman)&(deliveries['total_runs'] == 6)].shape[0])\n",
    "        \n",
    "        \n",
    "\n",
    "    \n",
    "    "
   ]
  },
  {
   "cell_type": "code",
   "execution_count": 263,
   "metadata": {
    "collapsed": false
   },
   "outputs": [
    {
     "data": {
      "text/plain": [
       "13"
      ]
     },
     "execution_count": 263,
     "metadata": {},
     "output_type": "execute_result"
    }
   ],
   "source": [
    "total_6_in_a_match(1,\"BB McCullum\")"
   ]
  },
  {
   "cell_type": "code",
   "execution_count": 264,
   "metadata": {
    "collapsed": true
   },
   "outputs": [],
   "source": [
    "def dot_balls_in_a_match(match_id,batsman):\n",
    "    return(deliveries[(deliveries['match_id'] == match_id)&(deliveries['batsman'] == batsman)&(deliveries['total_runs'] == 0)].shape[0])\n",
    "    "
   ]
  },
  {
   "cell_type": "code",
   "execution_count": 265,
   "metadata": {
    "collapsed": false
   },
   "outputs": [
    {
     "data": {
      "text/plain": [
       "17"
      ]
     },
     "execution_count": 265,
     "metadata": {},
     "output_type": "execute_result"
    }
   ],
   "source": [
    "dot_balls_in_a_match(1,\"BB McCullum\")"
   ]
  },
  {
   "cell_type": "code",
   "execution_count": 283,
   "metadata": {
    "collapsed": true
   },
   "outputs": [],
   "source": [
    "def total_runs_scored_by_a_team_in_a_match(match):\n",
    "    match_id = match\n",
    "    s = deliveries.groupby(['match_id','batting_team'])['total_runs'].sum()\n",
    "    return s[match_id]\n",
    "    \n",
    "    "
   ]
  },
  {
   "cell_type": "code",
   "execution_count": 284,
   "metadata": {
    "collapsed": false
   },
   "outputs": [
    {
     "data": {
      "text/plain": [
       "batting_team\n",
       "Kolkata Knight Riders          222\n",
       "Royal Challengers Bangalore     82\n",
       "Name: total_runs, dtype: int64"
      ]
     },
     "execution_count": 284,
     "metadata": {},
     "output_type": "execute_result"
    }
   ],
   "source": [
    "total_runs_scored_by_a_team_in_a_match(1)"
   ]
  },
  {
   "cell_type": "code",
   "execution_count": null,
   "metadata": {
    "collapsed": true
   },
   "outputs": [],
   "source": []
  },
  {
   "cell_type": "code",
   "execution_count": 270,
   "metadata": {
    "collapsed": true
   },
   "outputs": [],
   "source": [
    "def runs_scored_by_batsman():\n",
    "    s = deliveries.groupby(['batsman'])['batsman_runs'].sum()\n",
    "    name = str(s.idxmax())\n",
    "    max_score = str(s.max())\n",
    "    name_score = \"Maximum scorer is \" + name  +\" , he scored \" + max_score\n",
    "    return name_score\n",
    "    "
   ]
  },
  {
   "cell_type": "code",
   "execution_count": 271,
   "metadata": {
    "collapsed": false
   },
   "outputs": [
    {
     "data": {
      "text/plain": [
       "'Maximum scorer is SE Marsh , he scored 616'"
      ]
     },
     "execution_count": 271,
     "metadata": {},
     "output_type": "execute_result"
    }
   ],
   "source": [
    "runs_scored_by_batsman()"
   ]
  },
  {
   "cell_type": "code",
   "execution_count": 509,
   "metadata": {
    "collapsed": false
   },
   "outputs": [],
   "source": [
    "def total_4_in_season():\n",
    "    return(deliveries[(deliveries['batsman_runs'] == 4)&(deliveries['wide_runs'] == 0)\n",
    "                      &(deliveries['bye_runs'] == 0)&(deliveries['legbye_runs'] == 0)].shape[0])\n",
    "    \n",
    "    "
   ]
  },
  {
   "cell_type": "code",
   "execution_count": 510,
   "metadata": {
    "collapsed": false
   },
   "outputs": [
    {
     "data": {
      "text/plain": [
       "1703"
      ]
     },
     "execution_count": 510,
     "metadata": {},
     "output_type": "execute_result"
    }
   ],
   "source": [
    "total_4_in_season()"
   ]
  },
  {
   "cell_type": "code",
   "execution_count": 505,
   "metadata": {
    "collapsed": true
   },
   "outputs": [],
   "source": [
    "def total_6_in_season():\n",
    "    return(deliveries[(deliveries['batsman_runs'] == 6)&(deliveries['wide_runs'] == 0)\n",
    "                      &(deliveries['bye_runs'] == 0)&(deliveries['legbye_runs'] == 0)].shape[0])\n",
    "    \n",
    "    "
   ]
  },
  {
   "cell_type": "code",
   "execution_count": 506,
   "metadata": {
    "collapsed": false
   },
   "outputs": [
    {
     "data": {
      "text/plain": [
       "623"
      ]
     },
     "execution_count": 506,
     "metadata": {},
     "output_type": "execute_result"
    }
   ],
   "source": [
    "total_6_in_season()"
   ]
  },
  {
   "cell_type": "code",
   "execution_count": 360,
   "metadata": {
    "collapsed": true
   },
   "outputs": [],
   "source": [
    "def balls_faced_by_batsman(bats):\n",
    "    return(deliveries[(deliveries['batsman'] == bats)&(deliveries['wide_runs'] == 0)].shape[0])\n",
    "            \n",
    "        \n",
    "    \n",
    "    \n"
   ]
  },
  {
   "cell_type": "code",
   "execution_count": 422,
   "metadata": {
    "collapsed": false
   },
   "outputs": [],
   "source": [
    "def highest_strike_rate():\n",
    "    sr = []\n",
    "    s = deliveries.groupby(['batsman'])['batsman_runs'].sum()\n",
    "    bats = s.index.tolist()\n",
    "    for bat in bats:\n",
    "        runs = s[bat]\n",
    "        ball = balls_faced_by_batsman(bat)\n",
    "        sr.append((100*runs)/ball)\n",
    "    sr_df = pd.DataFrame(\n",
    "    {'batsman_name': bats,\n",
    "     'strike_rate': sr,\n",
    "    })    \n",
    "    sr_df.set_index('batsman_name',inplace = True)\n",
    "    name = str(sr_df.idxmax())\n",
    "    max_score = str(sr_df.max())\n",
    "    name_score = name  +\" has highest strike rate of\" + max_score\n",
    "    return name_score\n",
    "    "
   ]
  },
  {
   "cell_type": "code",
   "execution_count": 423,
   "metadata": {
    "collapsed": false
   },
   "outputs": [
    {
     "data": {
      "text/plain": [
       "'strike_rate    Umar Gul\\ndtype: object has highest strike rate ofstrike_rate    205.263158\\ndtype: float64'"
      ]
     },
     "execution_count": 423,
     "metadata": {},
     "output_type": "execute_result"
    }
   ],
   "source": [
    "highest_strike_rate()"
   ]
  },
  {
   "cell_type": "code",
   "execution_count": 424,
   "metadata": {
    "collapsed": true
   },
   "outputs": [],
   "source": [
    "def lowest_strike_rate():\n",
    "    sr = []\n",
    "    s = deliveries.groupby(['batsman'])['batsman_runs'].sum()\n",
    "    bats = s.index.tolist()\n",
    "    for bat in bats:\n",
    "        runs = s[bat]\n",
    "        ball = balls_faced_by_batsman(bat)\n",
    "        sr.append((100*runs)/ball)\n",
    "    sr_df = pd.DataFrame(\n",
    "    {'batsman_name': bats,\n",
    "     'strike_rate': sr,\n",
    "    })    \n",
    "    sr_df.set_index('batsman_name',inplace = True)\n",
    "    name = str(sr_df.idxmin())\n",
    "    max_score = str(sr_df.min())\n",
    "    name_score = name  +\" has highest strike rate of\" + max_score\n",
    "    return name_score\n",
    "    "
   ]
  },
  {
   "cell_type": "code",
   "execution_count": 425,
   "metadata": {
    "collapsed": false
   },
   "outputs": [
    {
     "data": {
      "text/plain": [
       "'strike_rate    A Mukund\\ndtype: object has highest strike rate ofstrike_rate    0.0\\ndtype: float64'"
      ]
     },
     "execution_count": 425,
     "metadata": {},
     "output_type": "execute_result"
    }
   ],
   "source": [
    "lowest_strike_rate()"
   ]
  },
  {
   "cell_type": "code",
   "execution_count": 438,
   "metadata": {
    "collapsed": true
   },
   "outputs": [],
   "source": [
    "def highest_balls_faced():\n",
    "    sr = []\n",
    "    s = deliveries.groupby(['batsman'])['batsman_runs'].sum()\n",
    "    bats = s.index.tolist()\n",
    "    for bat in bats:\n",
    "        ball = balls_faced_by_batsman(bat)\n",
    "        sr.append(ball)\n",
    "    sr_df = pd.DataFrame(\n",
    "    {'batsman_name': bats,\n",
    "     'balls_faced': sr,\n",
    "    })  \n",
    "    #print(sr_df)\n",
    "    sr_df.set_index('batsman_name',inplace = True)\n",
    "    name = str(sr_df.idxmax())\n",
    "    max_score = str(sr_df.max())\n",
    "    name_score = name  +\" has faced\" + max_score\n",
    "    return name_score\n",
    "    \n",
    "    "
   ]
  },
  {
   "cell_type": "code",
   "execution_count": 439,
   "metadata": {
    "collapsed": false
   },
   "outputs": [
    {
     "data": {
      "text/plain": [
       "'balls_faced    SE Marsh\\ndtype: object has facedballs_faced    441\\ndtype: int64'"
      ]
     },
     "execution_count": 439,
     "metadata": {},
     "output_type": "execute_result"
    }
   ],
   "source": [
    "highest_balls_faced()"
   ]
  },
  {
   "cell_type": "code",
   "execution_count": 499,
   "metadata": {
    "collapsed": true
   },
   "outputs": [],
   "source": [
    "#wide_runs',\n",
    " #      'bye_runs', 'legbye_runs', 'noball_runs', 'penalty_runs',\n",
    "def total_4_6_by_batsman(batsman):\n",
    "    fours = deliveries[(deliveries['batsman'] == batsman)&(deliveries['batsman_runs'] == 4)&(deliveries['wide_runs'] == 0)\n",
    "                      &(deliveries['bye_runs'] == 0)&(deliveries['legbye_runs'] == 0)].shape[0]\n",
    "    sixes = deliveries[(deliveries['batsman'] == batsman)&(deliveries['batsman_runs'] == 6)&(deliveries['wide_runs'] == 0)\n",
    "                      &(deliveries['bye_runs'] == 0)&(deliveries['legbye_runs'] == 0)].shape[0]\n",
    "    \n",
    "    print(\"total fours scored by him are\",fours,\"total sixes scored by him are\",sixes)\n",
    "    \n",
    "    \n",
    "            \n",
    "        \n",
    "    \n",
    "    "
   ]
  },
  {
   "cell_type": "code",
   "execution_count": 500,
   "metadata": {
    "collapsed": false
   },
   "outputs": [
    {
     "name": "stdout",
     "output_type": "stream",
     "text": [
      "total fours scored by him are 59 total sixes scored by him are 26\n"
     ]
    }
   ],
   "source": [
    "total_4_6_by_batsman(\"SE Marsh\")"
   ]
  },
  {
   "cell_type": "code",
   "execution_count": 501,
   "metadata": {
    "collapsed": true
   },
   "outputs": [],
   "source": [
    "def most4s_by_batsman():\n",
    "    sr = []\n",
    "    s = deliveries.groupby(['batsman'])['batsman_runs'].sum()\n",
    "    bats = s.index.tolist()\n",
    "    for bat in bats:\n",
    "        fours = deliveries[(deliveries['batsman'] == bat)&(deliveries['batsman_runs'] == 4)&(deliveries['wide_runs'] == 0)\n",
    "                      &(deliveries['bye_runs'] == 0)&(deliveries['legbye_runs'] == 0)].shape[0]\n",
    "    \n",
    "        sr.append(fours)\n",
    "    sr_df = pd.DataFrame(\n",
    "    {'batsman_name': bats,\n",
    "     'no_of_4s': sr,\n",
    "    })  \n",
    "    #print(sr_df)\n",
    "    sr_df.set_index('batsman_name',inplace = True)\n",
    "    name = str(sr_df.idxmax())\n",
    "    max_score = str(sr_df.max())\n",
    "    name_score = name  +\" has hit more 4s,he hit \" + max_score\n",
    "    return name_score\n",
    "    "
   ]
  },
  {
   "cell_type": "code",
   "execution_count": 502,
   "metadata": {
    "collapsed": false
   },
   "outputs": [
    {
     "data": {
      "text/plain": [
       "'no_of_4s    G Gambhir\\ndtype: object has hit more 4s,he hit no_of_4s    68\\ndtype: int64'"
      ]
     },
     "execution_count": 502,
     "metadata": {},
     "output_type": "execute_result"
    }
   ],
   "source": [
    "most4s_by_batsman()"
   ]
  },
  {
   "cell_type": "code",
   "execution_count": 489,
   "metadata": {
    "collapsed": false
   },
   "outputs": [],
   "source": [
    "def most6s_by_batsman():\n",
    "    sr = []\n",
    "    s = deliveries.groupby(['batsman'])['batsman_runs'].sum()\n",
    "    bats = s.index.tolist()\n",
    "    for bat in bats:\n",
    "        sixes = deliveries[(deliveries['batsman'] == bat)&(deliveries['batsman_runs'] == 6)].shape[0]\n",
    "        sr.append(sixes)\n",
    "    sr_df = pd.DataFrame(\n",
    "    {'batsman_name': bats,\n",
    "     'no_of_6s': sr,\n",
    "    })  \n",
    "    #print(sr_df)\n",
    "    sr_df.set_index('batsman_name',inplace = True)\n",
    "    name = str(sr_df.idxmax())\n",
    "    max_score = str(sr_df.max())\n",
    "    name_score = name  +\" has hit more 6s,he hit \" + max_score\n",
    "    return name_score\n",
    "    "
   ]
  },
  {
   "cell_type": "code",
   "execution_count": 490,
   "metadata": {
    "collapsed": false
   },
   "outputs": [
    {
     "data": {
      "text/plain": [
       "'no_of_6s    ST Jayasuriya\\ndtype: object has hit more 6s,he hit no_of_6s    31\\ndtype: int64'"
      ]
     },
     "execution_count": 490,
     "metadata": {},
     "output_type": "execute_result"
    }
   ],
   "source": [
    "most6s_by_batsman()"
   ]
  },
  {
   "cell_type": "code",
   "execution_count": null,
   "metadata": {
    "collapsed": true
   },
   "outputs": [],
   "source": []
  }
 ],
 "metadata": {
  "kernelspec": {
   "display_name": "Python 3",
   "language": "python",
   "name": "python3"
  },
  "language_info": {
   "codemirror_mode": {
    "name": "ipython",
    "version": 3
   },
   "file_extension": ".py",
   "mimetype": "text/x-python",
   "name": "python",
   "nbconvert_exporter": "python",
   "pygments_lexer": "ipython3",
   "version": "3.5.2"
  }
 },
 "nbformat": 4,
 "nbformat_minor": 2
}
