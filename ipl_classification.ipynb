{
 "cells": [
  {
   "cell_type": "code",
   "execution_count": 26,
   "metadata": {
    "collapsed": true
   },
   "outputs": [],
   "source": [
    "import pandas as pd\n",
    "import nltk"
   ]
  },
  {
   "cell_type": "code",
   "execution_count": 121,
   "metadata": {
    "collapsed": true
   },
   "outputs": [],
   "source": [
    "def feature_extractor(sentence):\n",
    "    features = {'runs': 0\n",
    "                ,'scored': 0\n",
    "                ,'match': 0\n",
    "                ,'team': 0\n",
    "                ,'score': 0\n",
    "                ,'total': 0\n",
    "                ,'more': 0\n",
    "                ,'leading': 0\n",
    "                ,'scorer': 0\n",
    "                ,'top': 0\n",
    "                ,'maximum': 0  \n",
    "                ,'from': 0\n",
    "                ,'less':0\n",
    "                ,'least':0\n",
    "               }\n",
    "    tokenized_sentence = nltk.word_tokenize(sentence)\n",
    "    word_counts = nltk.Counter(tokenized_sentence)\n",
    "    for word in word_counts:\n",
    "        if word in features:\n",
    "            features[word] = word_counts[word]\n",
    "    return features"
   ]
  },
  {
   "cell_type": "code",
   "execution_count": 122,
   "metadata": {
    "collapsed": true
   },
   "outputs": [],
   "source": [
    "sentences = [(\"How many runs are scored in match 3 by rcb?\", \"total_runs_team_match\"),(\"How many runs are scored in match number 3 by rcb?\", \"total_runs_team_match\"),\n",
    "(\"How many runs are scored in match no.3 by rcb?\", \"total_runs_team_match\"),(\"How many runs are scored in 3rd match by rcb?\", \"total_runs_team_match\"),\n",
    "(\"What is the team score of rcb in match 3?\", \"total_runs_team_match\"),(\"What is the team score of rcb in match number 3?\", \"total_runs_team_match\"),\n",
    "(\"What is the team score of rcb in match no.3?\", \"total_runs_team_match\"),(\"What is the team score of rcb in 3rd match?\", \"total_runs_team_match\"),\n",
    "(\"What is the team total of rcb in match 3?\", \"total_runs_team_match\"),(\"What is the team total of rcb in match number 3?\", \"total_runs_team_match\"),\n",
    "(\"What is the team total of rcb in match no.3?\", \"total_runs_team_match\"),(\"What is the team total of rcb in 3rd match?\", \"total_runs_team_match\"),\n",
    "(\"How much did rcb score in match 3?\", \"total_runs_team_match\"),(\"How much did rcb score in match number 3?\", \"total_runs_team_match\"),\n",
    "(\"How much did rcb score in match no.3?\", \"total_runs_team_match\"),(\"How much did rcb score in 3rd match?\", \"total_runs_team_match\"), \n",
    "(\"who scored more runs in match 3?\", \"max_score_batsman_match\"),(\"who scored more runs in match number 3?\", \"max_score_batsman_match\"),\n",
    "(\"who scored more runs in match no.3?\", \"max_score_batsman_match\"),(\"who scored more runs in 3rd match?\", \"max_score_batsman_match\"),\n",
    "(\"who was the leading run scorer in match 3?\", \"max_score_batsman_match\"),(\"who was the leading run scorer in match number 3?\", \"max_score_batsman_match\"),\n",
    "(\"who was the leading run scorer in match no.3?\", \"max_score_batsman_match\"),(\"who was the leading run scorer in 3rd match?\", \"max_score_batsman_match\"),\n",
    " (\"who was the top scorer in match 3?\", \"max_score_batsman_match\"),(\"who was the top scorer in match number 3?\", \"max_score_batsman_match\"),\n",
    "(\"who was the top scorer in match no.3?\", \"max_score_batsman_match\"),(\"who was the top scorer in 3rd match?\", \"max_score_batsman_match\"),\n",
    "(\"who was the maximum run scorer in match 3?\", \"max_score_batsman_match\"),(\"who was the maximum run scorer in match number 3?\", \"max_score_batsman_match\"),\n",
    "(\"who was the maximum run scorer in match no.3?\", \"max_score_batsman_match\"),(\"who was the maximum run scorer in 3rd match?\", \"max_score_batsman_match\"),\n",
    "(\"who scored more runs in match 3 from rcb?\", \"max_score_batsman_match_inTeam\"),(\"who scored more runs in match number 3 from rcb?\", \"max_score_batsman_match_inTeam\"),\n",
    "(\"who scored more runs in match no.3 from rcb?\", \"max_score_batsman_match_inTeam\"),(\"who scored more runs in 3rd match from rcb?\", \"max_score_batsman_match_inTeam\"),\n",
    "(\"who was the leading run scorer in match 3 from rcb?\", \"max_score_batsman_match_inTeam\"),(\"who was the leading run scorer in match number 3 from rcb?\", \"max_score_batsman_match_inTeam\"),\n",
    "(\"who was the leading run scorer in match no.3 from rcb?\", \"max_score_batsman_match_inTeam\"),(\"who was the leading run scorer in 3rd match from rcb?\", \"max_score_batsman_match_inTeam\"),\n",
    "(\"who was the top scorer in match 3 from rcb?\", \"max_score_batsman_match_inTeam\"),(\"who was the top scorer in match number 3 from rcb?\", \"max_score_batsman_match_inTeam\"),\n",
    "(\"who was the top scorer in match no.3 from rcb?\", \"max_score_batsman_match_inTeam\"),(\"who was the top scorer in 3rd match from rcb?\", \"max_score_batsman_match_inTeam\"),\n",
    "(\"who was the maximum run scorer in match 3 from rcb?\", \"max_score_batsman_match_inTeam\"),(\"who was the maximum run scorer in match number 3 from rcb?\", \"max_score_batsman_match_inTeam\"),\n",
    "(\"who was the maximum run scorer in match no.3 from rcb?\", \"max_score_batsman_match_inTeam\"),(\"who was the maximum run scorer in 3rd match from rcb?\", \"max_score_batsman_match_inTeam\"),\n",
    "(\"who scored less runs in match 3?\", \"min_score_batsman_match\"),(\"who scored less runs in match number 3?\", \"min_score_batsman_match\"),\n",
    "(\"who scored less runs in match no.3?\", \"min_score_batsman_match\"),(\"who scored less runs in 3rd match?\", \"min_score_batsman_match\"),\n",
    "(\"who was the least run scorer in match 3?\", \"min_score_batsman_match\"),(\"who was the least run scorer in match number 3?\", \"min_score_batsman_match\"),\n",
    "(\"who was the least run scorer in match no.3?\", \"min_score_batsman_match\"),(\"who was the least run scorer in 3rd match?\", \"min_score_batsman_match\"),\n",
    "(\"who scored less runs in match 3 from rcb?\", \"min_score_batsman_match_inTeam\"),(\"who scored less runs in match number 3 from rcb?\", \"min_score_batsman_match_inTeam\"),\n",
    "(\"who scored less runs in match no.3 from rcb?\", \"min_score_batsman_match_inTeam\"),(\"who scored less runs in 3rd match from rcb?\", \"min_score_batsman_match_inTeam\"),\n",
    "(\"who was the least run scorer in match 3 from rcb?\", \"min_score_batsman_match_inTeam\"),(\"who was the least run scorer in match number 3 from rcb?\", \"min_score_batsman_match_inTeam\"),\n",
    "(\"who was the least run scorer in match no.3 from rcb?\", \"min_score_batsman_match_inTeam\"),(\"who was the least run scorer in 3rd match from rcb?\", \"min_score_batsman_match_inTeam\"),\n",
    "            ]\n",
    "            \n"
   ]
  },
  {
   "cell_type": "code",
   "execution_count": 123,
   "metadata": {
    "collapsed": false
   },
   "outputs": [],
   "source": [
    "naive_bayes_classifier = nltk.NaiveBayesClassifier.train([(feature_extractor(sentence), label) for sentence, label in sentences])"
   ]
  },
  {
   "cell_type": "code",
   "execution_count": 126,
   "metadata": {
    "collapsed": false
   },
   "outputs": [],
   "source": [
    "feature_set_another_sentence = feature_extractor(\"who scored less runs in match 3 from rcb?\")"
   ]
  },
  {
   "cell_type": "code",
   "execution_count": 127,
   "metadata": {
    "collapsed": false
   },
   "outputs": [
    {
     "data": {
      "text/plain": [
       "'min_score_batsman_match_inTeam'"
      ]
     },
     "execution_count": 127,
     "metadata": {},
     "output_type": "execute_result"
    }
   ],
   "source": [
    "naive_bayes_classifier.classify(feature_set_another_sentence)"
   ]
  },
  {
   "cell_type": "code",
   "execution_count": null,
   "metadata": {
    "collapsed": true
   },
   "outputs": [],
   "source": []
  },
  {
   "cell_type": "code",
   "execution_count": null,
   "metadata": {
    "collapsed": true
   },
   "outputs": [],
   "source": []
  }
 ],
 "metadata": {
  "kernelspec": {
   "display_name": "Python 3",
   "language": "python",
   "name": "python3"
  },
  "language_info": {
   "codemirror_mode": {
    "name": "ipython",
    "version": 3
   },
   "file_extension": ".py",
   "mimetype": "text/x-python",
   "name": "python",
   "nbconvert_exporter": "python",
   "pygments_lexer": "ipython3",
   "version": "3.5.2"
  }
 },
 "nbformat": 4,
 "nbformat_minor": 2
}
